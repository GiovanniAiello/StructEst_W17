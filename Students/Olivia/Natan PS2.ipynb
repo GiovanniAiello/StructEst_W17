{
 "cells": [
  {
   "cell_type": "markdown",
   "metadata": {},
   "source": [
    "## Problem Set 2\n",
    "Olivia Natan\n",
    "\n",
    "\n",
    "We are going to be using data on health care expenditures to do some plotting and fitting of a few different distributions from the Gamma family using MLE."
   ]
  },
  {
   "cell_type": "code",
   "execution_count": 1,
   "metadata": {
    "collapsed": false
   },
   "outputs": [
    {
     "name": "stderr",
     "output_type": "stream",
     "text": [
      ":0: FutureWarning: IPython widgets are experimental and may change in the future.\n"
     ]
    }
   ],
   "source": [
    "# Imports:\n",
    "import pandas as pd\n",
    "import numpy as np\n",
    "import scipy.stats as sts\n",
    "import scipy.special as spc\n",
    "import scipy.optimize as opt\n",
    "import matplotlib.pyplot as mpl\n",
    "import seaborn as sns\n",
    "sns.set_style('whitegrid')\n",
    "sns.set_palette(sns.color_palette(\"colorblind\"))\n",
    "import distributions\n",
    "%matplotlib inline"
   ]
  },
  {
   "cell_type": "markdown",
   "metadata": {},
   "source": [
    "## Part (a)"
   ]
  },
  {
   "cell_type": "code",
   "execution_count": 2,
   "metadata": {
    "collapsed": false
   },
   "outputs": [
    {
     "name": "stdout",
     "output_type": "stream",
     "text": [
      "[   5.      14.75    74.45   172.21   451.535]\n",
      "[   582.268         803.043        1207.17         2343.181        9987.5144\n",
      "  35672.06224001]\n"
     ]
    }
   ],
   "source": [
    "# let's bring in our data:\n",
    "costs = np.loadtxt('clms.txt')\n",
    "# let's also check for the range of the data\n",
    "print(np.percentile(costs,(1,5,25,50,75)))\n",
    "print(np.percentile(costs,(80,85,90,95,99,99.9)))"
   ]
  },
  {
   "cell_type": "code",
   "execution_count": 3,
   "metadata": {
    "collapsed": false
   },
   "outputs": [
    {
     "data": {
      "text/plain": [
       "<matplotlib.text.Text at 0x17802278>"
      ]
     },
     "execution_count": 3,
     "metadata": {},
     "output_type": "execute_result"
    },
    {
     "data": {
      "image/png": "[encoded data removed]",
      "text/plain": [
       "<matplotlib.figure.Figure at 0x3b0a198>"
      ]
     },
     "metadata": {},
     "output_type": "display_data"
    }
   ],
   "source": [
    "# Histogram 1: distribution of all costs with 1000 bins, height =freq\n",
    "mpl.hist(costs,1000,normed=True)\n",
    "mpl.xlabel('Healthcare Costs, in $')\n",
    "mpl.ylabel('Frequency of occurence')\n",
    "mpl.title('Distribution of Healthcare Costs, uncensored')"
   ]
  },
  {
   "cell_type": "code",
   "execution_count": 4,
   "metadata": {
    "collapsed": false
   },
   "outputs": [
    {
     "data": {
      "text/plain": [
       "<matplotlib.text.Text at 0x193f0a58>"
      ]
     },
     "execution_count": 4,
     "metadata": {},
     "output_type": "execute_result"
    },
    {
     "data": {
      "image/png": "[encoded data removed]",
      "text/plain": [
       "<matplotlib.figure.Figure at 0x17aa0358>"
      ]
     },
     "metadata": {},
     "output_type": "display_data"
    }
   ],
   "source": [
    "# Histogram 2: Distribution of all costs with 100 bins, height=freq\n",
    "# Then we censor at 800$\n",
    "costs_censored = pd.DataFrame(costs)\n",
    "costs_censored.columns = ['costs']\n",
    "costs_censored['censored'] = costs_censored['costs']\n",
    "costs_censored.loc[costs_censored.costs>800,'censored']=808 \n",
    "mpl.hist(np.array(costs_censored['censored']),100,normed=True)\n",
    "# this is a hacky way of retaining the true frequencies but also having 100 bars exactly: using 100 breaks creates 101 bars\n",
    "mpl.xlim(0,800)\n",
    "mpl.ylim(0,0.006)\n",
    "mpl.xlabel('Healthcare Costs, in $')\n",
    "mpl.ylabel('Frequency of occurence')\n",
    "mpl.title('Distribution of Healthcare Costs, censored')"
   ]
  },
  {
   "cell_type": "markdown",
   "metadata": {},
   "source": [
    "## Comparing our 2 histograms\n",
    "\n",
    "There are certainly reasons to prefer each histogram. If I'm an insurance company, I should find both pictures informative. The uncensored distribution tells us that there are some customers who are in the very highest cost area - and more or less what the observed maximum is. However, it is clear that this is a tiny percentage of the insured.\n",
    "\n",
    "This is where the 2nd histogram is more informative. 800$ is more or less the 85th percentile of the data, and we can learn about the shape of most of the mass of the observed data. "
   ]
  },
  {
   "cell_type": "markdown",
   "metadata": {},
   "source": [
    "## Part (b)\n",
    "\n",
    "Our initial guesses for the gamma distribution we are fitting are: $$\\beta_0 = \\frac{E(x)}{Var(x)}$$ and $$\\alpha_0 = \\frac{E(x)}{\\beta_0}$$"
   ]
  },
  {
   "cell_type": "markdown",
   "metadata": {},
   "source": [
    "$${\\displaystyle f(x;\\alpha ,\\beta )={\\frac {x^{\\alpha -1}e^{-x/\\beta }}{\\beta ^{\\alpha }\\Gamma (\\alpha )}}\\quad {\\text{ for }}x\\geq 0{\\text{ and }}\\alpha ,\\beta >0.}$$\n",
    "$$E(X) = \\alpha\\beta$$\n",
    "$$Var(x) = \\alpha\\beta^2$$"
   ]
  },
  {
   "cell_type": "code",
   "execution_count": 5,
   "metadata": {
    "collapsed": false
   },
   "outputs": [
    {
     "name": "stdout",
     "output_type": "stream",
     "text": [
      "(0.032872796694206986, 21911.064702753894)\n"
     ]
    }
   ],
   "source": [
    "# Now we will fit a gamma distribution to this data\n",
    "# Let's set our initial guesses as above:\n",
    "beta_0 = np.var(costs)/np.mean(costs)\n",
    "alpha_0 = np.mean(costs)/beta_0\n",
    "print(alpha_0, beta_0)"
   ]
  },
  {
   "cell_type": "markdown",
   "metadata": {},
   "source": [
    "Let's check that we are using the right parameterization of the gamma distribution to use the one from the package:"
   ]
  },
  {
   "cell_type": "code",
   "execution_count": 87,
   "metadata": {
    "collapsed": false
   },
   "outputs": [
    {
     "name": "stdout",
     "output_type": "stream",
     "text": [
      "0.000279107227578\n",
      "0.000279107227578\n"
     ]
    }
   ],
   "source": [
    "#check we have the right interpretation of the package parameterization\n",
    "test_x=100\n",
    "print(sts.gamma.pdf(test_x,alpha_0,loc=0,scale=beta_0))\n",
    "print((test_x**(alpha_0 -1))*np.exp(-test_x/beta_0)/((beta_0**alpha_0)*spc.gamma(alpha_0)))"
   ]
  },
  {
   "cell_type": "code",
   "execution_count": 86,
   "metadata": {
    "collapsed": false
   },
   "outputs": [
    {
     "name": "stdout",
     "output_type": "stream",
     "text": [
      "-93555.3939035\n",
      "-93555.3939035\n"
     ]
    }
   ],
   "source": [
    "#Let's check the gamma function works\n",
    "print(distributions.log_lik_gamma(costs,alpha_0,beta_0))\n",
    "print(sts.gamma.logpdf(costs,alpha_0,loc=0,scale=beta_0).sum())"
   ]
  },
  {
   "cell_type": "code",
   "execution_count": 11,
   "metadata": {
    "collapsed": false
   },
   "outputs": [],
   "source": [
    "# Let's optimize:\n",
    "def gamma_crit(params, *args):\n",
    "    alpha_0,beta_0 = params\n",
    "    costs = args\n",
    "    log_lik_val = distributions.log_lik_gamma(costs, alpha_0,beta_0)\n",
    "    neg_log_lik_val = -log_lik_val\n",
    "    \n",
    "    return neg_log_lik_val"
   ]
  },
  {
   "cell_type": "code",
   "execution_count": 12,
   "metadata": {
    "collapsed": false
   },
   "outputs": [],
   "source": [
    "import scipy.optimize as opt\n",
    "params_init = np.array([alpha_0,beta_0])\n",
    "mle1_args = (costs)\n",
    "results = opt.minimize(gamma_crit, params_init, args=(mle1_args),bounds=((0,None),(0,None)),tol=1e-12)\n",
    "alpha_MLE,beta_MLE = results.x"
   ]
  },
  {
   "cell_type": "code",
   "execution_count": 13,
   "metadata": {
    "collapsed": false
   },
   "outputs": [
    {
     "data": {
      "text/plain": [
       "  status: 0\n",
       " success: True\n",
       "    nfev: 36\n",
       "     fun: 82076.451605624199\n",
       "       x: array([  2.21755454e-01,   2.19110647e+04])\n",
       " message: 'CONVERGENCE: REL_REDUCTION_OF_F_<=_FACTR*EPSMCH'\n",
       "     jac: array([ 0.03201421,  0.09167707])\n",
       "     nit: 9"
      ]
     },
     "execution_count": 13,
     "metadata": {},
     "output_type": "execute_result"
    }
   ],
   "source": [
    "results"
   ]
  },
  {
   "cell_type": "code",
   "execution_count": 14,
   "metadata": {
    "collapsed": false
   },
   "outputs": [
    {
     "name": "stdout",
     "output_type": "stream",
     "text": [
      "Estimates:\n",
      "('Alpha: ', 0.22175545428396778)\n",
      "('Beta: ', 21911.064698808907)\n",
      "('LL: ', -82076.451605624199)\n"
     ]
    }
   ],
   "source": [
    "print('Estimates:')\n",
    "print(\"Alpha: \", alpha_MLE)\n",
    "print('Beta: ', beta_MLE)\n",
    "print('LL: ', -results.fun)"
   ]
  },
  {
   "cell_type": "code",
   "execution_count": 15,
   "metadata": {
    "collapsed": false
   },
   "outputs": [
    {
     "data": {
      "text/plain": [
       "<matplotlib.legend.Legend at 0x19e40518>"
      ]
     },
     "execution_count": 15,
     "metadata": {},
     "output_type": "execute_result"
    },
    {
     "data": {
      "image/png": "[encoded data removed]",
      "text/plain": [
       "<matplotlib.figure.Figure at 0x19ebaf98>"
      ]
     },
     "metadata": {},
     "output_type": "display_data"
    }
   ],
   "source": [
    "dist_pts = np.linspace(0, 800, 800)\n",
    "mpl.hist(np.array(costs_censored['censored']),100,normed=True)\n",
    "# this is a hacky way of retaining the true frequencies but also having 100 bars exactly: using 100 breaks creates 101 bars\n",
    "mpl.xlim(0,800)\n",
    "mpl.plot(dist_pts, sts.gamma.pdf(dist_pts, alpha_MLE, loc=0,scale=beta_MLE),\n",
    "         linewidth=2, color='r',label='1: Gamma Distribution')\n",
    "mpl.ylim(0,0.01)\n",
    "mpl.xlabel('Healthcare Costs, in $')\n",
    "mpl.ylabel('Frequency of occurence')\n",
    "mpl.title('Distribution of Healthcare Costs, censored')\n",
    "mpl.legend(loc='upper right',frameon=True,fancybox=True)"
   ]
  },
  {
   "cell_type": "markdown",
   "metadata": {},
   "source": [
    "This isn't looking like the right distribution for our data: it has too flat/small a tail...\n",
    "\n",
    "We want something that has a peak farther from the origin and bigger tails"
   ]
  },
  {
   "cell_type": "markdown",
   "metadata": {},
   "source": [
    "How precise are these estimates? Let's compute some quick SE's - though note the optimizing method we used doesn't produce a hessian since we used the solvers that allow bounds. "
   ]
  },
  {
   "cell_type": "markdown",
   "metadata": {},
   "source": [
    "## Part (c)\n",
    "We want to fit a generalized gamma now:\n",
    "\n",
    "$$f(x;\\alpha,\\beta,m)={\\frac  {(m/\\beta^{\\alpha})x^{{\\alpha-1}}e^{{-(x/\\beta)^{m}}}}{\\Gamma (\\alpha/m)}}$$"
   ]
  },
  {
   "cell_type": "code",
   "execution_count": 16,
   "metadata": {
    "collapsed": true
   },
   "outputs": [],
   "source": [
    "def gen_gamma_crit(params,*args):\n",
    "    alpha_0,beta_0,m_0 = params\n",
    "    costs = args\n",
    "    log_lik_val = distributions.log_lik_gen_gamma(costs,alpha_0,beta_0,m_0)\n",
    "    neg_log_lik_val = -log_lik_val\n",
    "    \n",
    "    return neg_log_lik_val"
   ]
  },
  {
   "cell_type": "code",
   "execution_count": 85,
   "metadata": {
    "collapsed": false
   },
   "outputs": [
    {
     "name": "stdout",
     "output_type": "stream",
     "text": [
      "-3.63125050149\n",
      "-3.63125050149\n"
     ]
    }
   ],
   "source": [
    "# Checking our functions to make sure we get the same ll for sample points\n",
    "print(distributions.log_lik_gen_gamma(1,alpha_MLE,beta_MLE,1))\n",
    "print(sts.gengamma.logpdf(1,alpha_MLE,1,loc=0,scale=beta_MLE))"
   ]
  },
  {
   "cell_type": "code",
   "execution_count": 21,
   "metadata": {
    "collapsed": false
   },
   "outputs": [
    {
     "data": {
      "text/plain": [
       "(0.22175545428396778, 21911.064698808907, 1.0)"
      ]
     },
     "execution_count": 21,
     "metadata": {},
     "output_type": "execute_result"
    }
   ],
   "source": [
    "initvals_2 = results.x[0], results.x[1], np.exp(0)\n",
    "initvals_2"
   ]
  },
  {
   "cell_type": "code",
   "execution_count": 22,
   "metadata": {
    "collapsed": false
   },
   "outputs": [],
   "source": [
    "import scipy.optimize as opt\n",
    "params_init_gen = initvals_2\n",
    "mle2_args = costs\n",
    "results2 = opt.minimize(gen_gamma_crit, params_init_gen, args=(mle2_args),bounds=((0,None),(0,None),(0,None)))\n",
    "alpha_MLE2,beta_MLE2,m_MLE2 = results2.x"
   ]
  },
  {
   "cell_type": "code",
   "execution_count": 23,
   "metadata": {
    "collapsed": false
   },
   "outputs": [
    {
     "data": {
      "text/plain": [
       "  status: 0\n",
       " success: True\n",
       "    nfev: 36\n",
       "     fun: 82076.446465899789\n",
       "       x: array([  2.22283437e-01,   2.19110644e+04,   9.97615654e-01])\n",
       " message: 'CONVERGENCE: REL_REDUCTION_OF_F_<=_FACTR*EPSMCH'\n",
       "     jac: array([-0.10477379,  0.09167707, -0.09167707])\n",
       "     nit: 4"
      ]
     },
     "execution_count": 23,
     "metadata": {},
     "output_type": "execute_result"
    }
   ],
   "source": [
    "results2"
   ]
  },
  {
   "cell_type": "code",
   "execution_count": 24,
   "metadata": {
    "collapsed": false
   },
   "outputs": [
    {
     "name": "stdout",
     "output_type": "stream",
     "text": [
      "Estimates:\n",
      "('Alpha: ', 0.22228343705991607)\n",
      "('Beta: ', 21911.064391235406)\n",
      "('m: ', 0.99761565414571518)\n",
      "('LL: ', -82076.446465899789)\n"
     ]
    }
   ],
   "source": [
    "print('Estimates:')\n",
    "print(\"Alpha: \", alpha_MLE2)\n",
    "print('Beta: ', beta_MLE2)\n",
    "print('m: ',m_MLE2)\n",
    "print('LL: ', -results2.fun)"
   ]
  },
  {
   "cell_type": "code",
   "execution_count": 25,
   "metadata": {
    "collapsed": false
   },
   "outputs": [
    {
     "data": {
      "text/plain": [
       "<matplotlib.legend.Legend at 0x1ba18f98>"
      ]
     },
     "execution_count": 25,
     "metadata": {},
     "output_type": "execute_result"
    },
    {
     "data": {
      "image/png": "[encoded data removed]",
      "text/plain": [
       "<matplotlib.figure.Figure at 0x1b4c4f60>"
      ]
     },
     "metadata": {},
     "output_type": "display_data"
    }
   ],
   "source": [
    "dist_pts = np.linspace(0, 800, 800)\n",
    "mpl.hist(np.array(costs_censored['censored']),100,normed=True)\n",
    "# this is a hacky way of retaining the true frequencies but also having 100 bars exactly: using 100 breaks creates 101 bars\n",
    "mpl.xlim(0,800)\n",
    "mpl.plot(dist_pts, sts.gamma.pdf(dist_pts, alpha_MLE, loc=0,scale=beta_MLE),\n",
    "         linewidth=2, color='r',label='1: Gamma Distribution')\n",
    "mpl.plot(dist_pts, sts.gengamma.pdf(dist_pts, alpha_MLE2, m_MLE2,loc=0,scale=beta_MLE2),\n",
    "         linewidth=2,ls='dashed', color='b',label='2: Gen. Gamma Distribution')\n",
    "mpl.ylim(0,0.01)\n",
    "mpl.xlabel('Healthcare Costs, in $')\n",
    "mpl.ylabel('Frequency of occurence')\n",
    "mpl.title('Distribution of Healthcare Costs, censored')\n",
    "mpl.legend(loc='upper right',frameon=True,fancybox=True)"
   ]
  },
  {
   "cell_type": "markdown",
   "metadata": {
    "collapsed": true
   },
   "source": [
    "## Part (D)\n",
    "We now want to estimate the 4-parameter GB2 function\n",
    "Recall that \n",
    "$$GG(x;\\alpha,\\beta,m)={\\frac  {(m/\\beta^{\\alpha})x^{{\\alpha-1}}e^{{-(x/\\beta)^{m}}}}{\\Gamma (\\alpha/m)}}$$\n",
    " \n",
    "We also take \n",
    "$$GB2(y;a,b,p,q)={\\frac {|a|y^{ap-1}}{b^{ap}B(p,q)(1+(y/b)^{a})^{p+q}}}$$\n",
    "Where $$GG(y;a,d ,p)=\\lim _{q\\rightarrow \\infty }GB2(y,a,b=q^{1/a}d ,p,q)={\\frac {|a|y^{ap-1}e^{-(y/d )^{a}}}{d ^{a}\\Gamma (p)}}$$ \n",
    "Basically, we will take the following as starting values for our GB2: $$a=m^0$$ $$b=q^{1/m^0}*\\beta^0$$ $$p=\\alpha^0$$ $$q=q^0$$"
   ]
  },
  {
   "cell_type": "code",
   "execution_count": 36,
   "metadata": {
    "collapsed": true
   },
   "outputs": [],
   "source": [
    "aa_0 = m_MLE2\n",
    "qq_0 = 1000000\n",
    "bb_0 = (qq_0**(1/m_MLE2))*beta_MLE2\n",
    "pp_0 = alpha_MLE2"
   ]
  },
  {
   "cell_type": "code",
   "execution_count": 38,
   "metadata": {
    "collapsed": false
   },
   "outputs": [
    {
     "data": {
      "text/plain": [
       "(22646638226.869671, 0.22228343705991607, 1000000, 0.99761565414571518)"
      ]
     },
     "execution_count": 38,
     "metadata": {},
     "output_type": "execute_result"
    }
   ],
   "source": [
    "initvals3 = bb_0,pp_0,qq_0,aa_0\n",
    "initvals3"
   ]
  },
  {
   "cell_type": "code",
   "execution_count": 37,
   "metadata": {
    "collapsed": true
   },
   "outputs": [],
   "source": [
    "def gen_beta2_crit(params,*args):\n",
    "    bb_0,pp_0,qq_0,aa_0= params\n",
    "    costs = args\n",
    "    log_lik_val = distributions.log_lik_gen_beta_2(costs,bb_0,pp_0,qq_0,aa_0)\n",
    "    neg_log_lik_val = -log_lik_val\n",
    "    \n",
    "    return neg_log_lik_val"
   ]
  },
  {
   "cell_type": "code",
   "execution_count": 39,
   "metadata": {
    "collapsed": false
   },
   "outputs": [
    {
     "name": "stdout",
     "output_type": "stream",
     "text": [
      "-82076.4473053\n",
      "82076.4464659\n"
     ]
    }
   ],
   "source": [
    "# checking the module gives us the right LL using parameter conversions\n",
    "print(distributions.log_lik_gen_beta_2(costs,bb_0,pp_0,qq_0,aa_0))\n",
    "print(results2.fun)"
   ]
  },
  {
   "cell_type": "code",
   "execution_count": 40,
   "metadata": {
    "collapsed": true
   },
   "outputs": [],
   "source": [
    "import scipy.optimize as opt\n",
    "params_init_gb2 = initvals3\n",
    "mle3_args = costs\n",
    "results3 = opt.minimize(gen_beta2_crit, params_init_gb2, args=(mle3_args),bounds=((0,None),(0,None),(0,None),(0,None)),tol=1e-12)\n",
    "bb_MLE3,pp_MLE3,qq_MLE3,aa_MLE3 = results3.x"
   ]
  },
  {
   "cell_type": "code",
   "execution_count": 41,
   "metadata": {
    "collapsed": false
   },
   "outputs": [
    {
     "data": {
      "text/plain": [
       "  status: 0\n",
       " success: True\n",
       "    nfev: 215\n",
       "     fun: 76923.390258492989\n",
       "       x: array([  2.26466382e+10,   7.81306378e-01,   9.99999382e+05,\n",
       "         8.04757513e-01])\n",
       " message: 'CONVERGENCE: REL_REDUCTION_OF_F_<=_FACTR*EPSMCH'\n",
       "     jac: array([     0.        ,    884.31988843,   1977.95015993,  16463.14776735])\n",
       "     nit: 9"
      ]
     },
     "execution_count": 41,
     "metadata": {},
     "output_type": "execute_result"
    }
   ],
   "source": [
    "results3"
   ]
  },
  {
   "cell_type": "code",
   "execution_count": 42,
   "metadata": {
    "collapsed": false
   },
   "outputs": [
    {
     "name": "stdout",
     "output_type": "stream",
     "text": [
      "Estimates:\n",
      "('b: ', 22646638226.869671)\n",
      "('p: ', 0.78130637829116434)\n",
      "('q: ', 999999.38208846387)\n",
      "('a: ', 0.80475751306219945)\n",
      "('LL: ', -76923.390258492989)\n"
     ]
    }
   ],
   "source": [
    "print('Estimates:')\n",
    "print(\"b: \", bb_MLE3)\n",
    "print('p: ', pp_MLE3)\n",
    "print('q: ', qq_MLE3)\n",
    "print('a: ', aa_MLE3)\n",
    "print('LL: ', -results3.fun)"
   ]
  },
  {
   "cell_type": "code",
   "execution_count": 43,
   "metadata": {
    "collapsed": true
   },
   "outputs": [],
   "source": [
    "# pdf function for graphing:\n",
    "def gb2_pdf(xvals,bb,pp,qq,aa):\n",
    "    pdf_vals = (np.abs(aa)*(xvals**(aa*pp -1)))/((bb**(aa*pp))*spc.beta(pp,qq)*((1+((xvals/bb)**aa))**(pp+qq)))\n",
    "    return pdf_vals"
   ]
  },
  {
   "cell_type": "code",
   "execution_count": 83,
   "metadata": {
    "collapsed": false
   },
   "outputs": [
    {
     "data": {
      "image/png": "[encoded data removed]",
      "text/plain": [
       "<matplotlib.figure.Figure at 0x1ee53518>"
      ]
     },
     "metadata": {},
     "output_type": "display_data"
    }
   ],
   "source": [
    "dist_pts = np.linspace(0, 800, 800)\n",
    "mpl.hist(np.array(costs_censored['censored']),100,normed=True,color='grey')\n",
    "# this is a hacky way of retaining the true frequencies but also having 100 bars exactly: using 100 breaks creates 101 bars\n",
    "mpl.xlim(0,800)\n",
    "mpl.plot(dist_pts, sts.gamma.pdf(dist_pts, alpha_MLE, loc=0,scale=beta_MLE),\n",
    "         linewidth=2, color='r',label='1: Gamma Distribution')\n",
    "mpl.plot(dist_pts, sts.gengamma.pdf(dist_pts, alpha_MLE2, m_MLE2,loc=0,scale=beta_MLE2),\n",
    "         linewidth=2,ls='dashed', color='b',label='2: Gen. Gamma Distribution')\n",
    "mpl.plot(dist_pts, gb2_pdf(dist_pts, bb_MLE3, pp_MLE3,qq_MLE3,aa_MLE3),\n",
    "         linewidth=3,ls='dotted', color='c',label='3: Gen. Beta2 Distribution')\n",
    "mpl.ylim(0,0.01)\n",
    "mpl.xlabel('Healthcare Costs, in $')\n",
    "mpl.ylabel('Frequency of occurence')\n",
    "mpl.title('Distribution of Healthcare Costs, censored')\n",
    "mpl.legend(loc='upper right',frameon=True,fancybox=True)\n",
    "mpl.savefig('PS2_Natan_all_est.png',dpi=400)"
   ]
  },
  {
   "cell_type": "markdown",
   "metadata": {},
   "source": [
    "We did OK here - the tails are fatter, but we're still not getting a nice hump, could this be a problem with the optimization?"
   ]
  },
  {
   "cell_type": "markdown",
   "metadata": {},
   "source": [
    "## Part (e)\n",
    "Perform likelihood ratio tests.\n",
    "\n",
    "Recall that our test statistic is:\n",
    "$$ LR(\\tilde{\\theta}|\\hat{\\theta}_{MLE}) = 2\\Bigl(\\ln\\ell(\\hat{\\theta}_{MLE}) - \\ln\\ell(\\tilde{\\theta})\\Bigr) \\sim \\chi^2(p) $$\n",
    "Where $\\tilde{\\theta}$ is the constrained value we are testing \n",
    "\n",
    "Note! If we evaluate the nested estimates with converted parameters to the nesting distribution, the LL is the same! We don't need to recalculate."
   ]
  },
  {
   "cell_type": "code",
   "execution_count": 61,
   "metadata": {
    "collapsed": true
   },
   "outputs": [],
   "source": [
    "# first, let's compare the simple gamma disribution against the full GB2\n",
    "# Then we'll compare the generalized gamma against GB2\n",
    "ll_gamma = -results.fun\n",
    "ll_gen_gamma = -results2.fun\n",
    "ll_gb2 = -results3.fun\n",
    "def lr_stat(ll_theta_tilde,ll_theta_hat):\n",
    "    ts= 2*(ll_theta_hat - ll_theta_tilde)\n",
    "    return ts\n",
    "def pctile_chisq(ts,pp):\n",
    "    pctile = sts.chi2.cdf(ts,pp,loc=0,scale=1)\n",
    "    return pctile"
   ]
  },
  {
   "cell_type": "code",
   "execution_count": 82,
   "metadata": {
    "collapsed": false
   },
   "outputs": [
    {
     "name": "stdout",
     "output_type": "stream",
     "text": [
      "(10306.12269426242, ' Test statistic for gamma vs gb2')\n",
      "(10306.1124148136, ' Test statistic for generalized gamma vs gb2')\n",
      "(9.487729036781154, ' 95th percentile of the reference distribution')\n",
      "('Quantile from Gamma vs GB2 test statistic: probability of observing a less extreme value', 1.0)\n",
      "('Quantile from Gen Gamma vs GB2 test statistic: probability of observing a less extreme value', 1.0)\n"
     ]
    }
   ],
   "source": [
    "lr_gamma = lr_stat(ll_gamma,ll_gb2)\n",
    "lr_gen_gamma = lr_stat(ll_gen_gamma,ll_gb2)\n",
    "print(lr_gamma, ' Test statistic for gamma vs gb2')\n",
    "print(lr_gen_gamma, ' Test statistic for generalized gamma vs gb2')\n",
    "print(sts.chi2.ppf(0.95,4,loc=0,scale=1), ' 95th percentile of the reference distribution')\n",
    "print('Quantile from Gamma vs GB2 test statistic: probability of observing a less extreme value',pctile_chisq(lr_gamma,4))\n",
    "print('Quantile from Gen Gamma vs GB2 test statistic: probability of observing a less extreme value',pctile_chisq(lr_gen_gamma,4))"
   ]
  },
  {
   "cell_type": "markdown",
   "metadata": {},
   "source": [
    "## Part (f)\n",
    "Since we don't have a closed form solution for the GB2 cumulative distribution function, we need to approximate integrating the PDF at the true values up to 1,000 dollars and subtract from 1 to get the probability of having a claim over that amount.\n",
    "\n",
    "We also will do the same to compare to the 2-parameter gamma from part b"
   ]
  },
  {
   "cell_type": "code",
   "execution_count": 88,
   "metadata": {
    "collapsed": false
   },
   "outputs": [
    {
     "name": "stdout",
     "output_type": "stream",
     "text": [
      "('Probability of a claim over 1000 dollars: ', 0.2170481815523665)\n"
     ]
    }
   ],
   "source": [
    "import scipy.integrate as scint\n",
    "def gb2_fit(x):\n",
    "    return gb2_pdf(x,bb_MLE3, pp_MLE3,qq_MLE3,aa_MLE3)\n",
    "pr_under_1000_gb2 = scint.quad(gb2_fit,0,1000)\n",
    "pr_over_1000_gb2 = 1-(pr_under_1000_gb2[0]-pr_under_1000_gb2[1])\n",
    "print('Probability of a claim over 1000 dollars: ',pr_over_1000_gb2)"
   ]
  },
  {
   "cell_type": "code",
   "execution_count": 89,
   "metadata": {
    "collapsed": false
   },
   "outputs": [
    {
     "name": "stdout",
     "output_type": "stream",
     "text": [
      "('Probability of a claim over 1000 dollars: ', 0.45195995035988368)\n"
     ]
    }
   ],
   "source": [
    "#there is a closed form for the Gamma CDF, but it itself requires integrals for lower incomplete gamma function\n",
    "# good news: our package has it!\n",
    "def gamma_fit_cdf(x):\n",
    "    return sts.gamma.cdf(x,alpha_MLE,loc=0,scale=beta_MLE)\n",
    "pr_over_1000_gamma = 1-gamma_fit_cdf(1000)\n",
    "print('Probability of a claim over 1000 dollars: ',pr_over_1000_gamma)"
   ]
  },
  {
   "cell_type": "markdown",
   "metadata": {},
   "source": [
    "We can see that the better fit on the lower area of the distribution of the gb2 fitted distribution meant this estimationmore poorly captured the downside risk for the insurance firm - thus suggesting the slightly better fit from the 4-parameter generalized beta 2 on the lower end of the distribution meant that it put less probability farther out in the tails.\n",
    "\n",
    "Actually - let's check the empirical probability - looks like both fits vastly overestimate the size of the tails. "
   ]
  },
  {
   "cell_type": "code",
   "execution_count": 91,
   "metadata": {
    "collapsed": false
   },
   "outputs": [
    {
     "name": "stdout",
     "output_type": "stream",
     "text": [
      "('Probability we observe a claim over 1000 dollars: ', 0.12261041529334213)\n"
     ]
    }
   ],
   "source": [
    "costs_censored['over_1000'] = 1*(costs_censored['costs']>1000)\n",
    "print(\"Probability we observe a claim over 1000 dollars: \",costs_censored['over_1000'].mean())"
   ]
  }
 ],
 "metadata": {
  "kernelspec": {
   "display_name": "Python 2",
   "language": "python",
   "name": "python2"
  },
  "language_info": {
   "codemirror_mode": {
    "name": "ipython",
    "version": 2
   },
   "file_extension": ".py",
   "mimetype": "text/x-python",
   "name": "python",
   "nbconvert_exporter": "python",
   "pygments_lexer": "ipython2",
   "version": "2.7.10"
  }
 },
 "nbformat": 4,
 "nbformat_minor": 0
}
