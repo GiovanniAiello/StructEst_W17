{
 "cells": [
  {
   "cell_type": "markdown",
   "metadata": {},
   "source": [
    "## PS 4\n",
    "## Olivia Natan\n"
   ]
  },
  {
   "cell_type": "code",
   "execution_count": 1,
   "metadata": {
    "collapsed": true
   },
   "outputs": [],
   "source": [
    "import numpy as np\n",
    "import scipy.stats as sts\n",
    "import pandas as pd\n",
    "import seaborn as sns\n",
    "import numpy.linalg as lin\n",
    "import scipy.integrate as intgr\n",
    "import scipy.optimize as opt\n",
    "import matplotlib\n",
    "import matplotlib.pyplot as plt\n",
    "\n",
    "%matplotlib inline"
   ]
  },
  {
   "cell_type": "markdown",
   "metadata": {},
   "source": [
    "### Setup\n",
    "\n",
    "In this problem, we have data on the distribution of households across income brackets, and we are going to do some moment matching via GMM\n",
    "\n",
    "##### Data setup:\n",
    "\n",
    "The data are stored as tab-delimited data in 42 bins in 'usincmoms.txt', the first number is the bin midpoint, the second is the percent of the population (indivs vs hhs?) in the bin. \n",
    "\n",
    "First, we import the data"
   ]
  },
  {
   "cell_type": "code",
   "execution_count": 2,
   "metadata": {
    "collapsed": false
   },
   "outputs": [
    {
     "data": {
      "text/html": [
       "<div>\n",
       "<table border=\"1\" class=\"dataframe\">\n",
       "  <thead>\n",
       "    <tr style=\"text-align: right;\">\n",
       "      <th></th>\n",
       "      <th>Percent</th>\n",
       "      <th>Midpoint</th>\n",
       "    </tr>\n",
       "  </thead>\n",
       "  <tbody>\n",
       "    <tr>\n",
       "      <th>0</th>\n",
       "      <td>0.035190</td>\n",
       "      <td>2500</td>\n",
       "    </tr>\n",
       "    <tr>\n",
       "      <th>1</th>\n",
       "      <td>0.041062</td>\n",
       "      <td>7500</td>\n",
       "    </tr>\n",
       "    <tr>\n",
       "      <th>2</th>\n",
       "      <td>0.058859</td>\n",
       "      <td>12500</td>\n",
       "    </tr>\n",
       "    <tr>\n",
       "      <th>3</th>\n",
       "      <td>0.056836</td>\n",
       "      <td>17500</td>\n",
       "    </tr>\n",
       "    <tr>\n",
       "      <th>4</th>\n",
       "      <td>0.058595</td>\n",
       "      <td>22500</td>\n",
       "    </tr>\n",
       "  </tbody>\n",
       "</table>\n",
       "</div>"
      ],
      "text/plain": [
       "    Percent  Midpoint\n",
       "0  0.035190      2500\n",
       "1  0.041062      7500\n",
       "2  0.058859     12500\n",
       "3  0.056836     17500\n",
       "4  0.058595     22500"
      ]
     },
     "execution_count": 2,
     "metadata": {},
     "output_type": "execute_result"
    }
   ],
   "source": [
    "df = pd.read_csv('usincmoms.txt',delim_whitespace=True,header=None,names=['Percent','Midpoint'])\n",
    "df.head()"
   ]
  },
  {
   "cell_type": "markdown",
   "metadata": {},
   "source": [
    "Next, we add endpoints to the ranges:"
   ]
  },
  {
   "cell_type": "code",
   "execution_count": 3,
   "metadata": {
    "collapsed": false
   },
   "outputs": [
    {
     "data": {
      "text/html": [
       "<div>\n",
       "<table border=\"1\" class=\"dataframe\">\n",
       "  <thead>\n",
       "    <tr style=\"text-align: right;\">\n",
       "      <th></th>\n",
       "      <th>Percent</th>\n",
       "      <th>Midpoint</th>\n",
       "      <th>bottom</th>\n",
       "      <th>top</th>\n",
       "      <th>range_text</th>\n",
       "      <th>midpoint_000s</th>\n",
       "      <th>binwidth</th>\n",
       "      <th>percent_bar</th>\n",
       "    </tr>\n",
       "  </thead>\n",
       "  <tbody>\n",
       "    <tr>\n",
       "      <th>37</th>\n",
       "      <td>0.002998</td>\n",
       "      <td>187500</td>\n",
       "      <td>185000</td>\n",
       "      <td>190000</td>\n",
       "      <td>185000 to 189999</td>\n",
       "      <td>187.5</td>\n",
       "      <td>5</td>\n",
       "      <td>0.002998</td>\n",
       "    </tr>\n",
       "    <tr>\n",
       "      <th>38</th>\n",
       "      <td>0.003138</td>\n",
       "      <td>192500</td>\n",
       "      <td>190000</td>\n",
       "      <td>195000</td>\n",
       "      <td>190000 to 194999</td>\n",
       "      <td>192.5</td>\n",
       "      <td>5</td>\n",
       "      <td>0.003138</td>\n",
       "    </tr>\n",
       "    <tr>\n",
       "      <th>39</th>\n",
       "      <td>0.002577</td>\n",
       "      <td>197500</td>\n",
       "      <td>195000</td>\n",
       "      <td>200000</td>\n",
       "      <td>195000 to 199999</td>\n",
       "      <td>197.5</td>\n",
       "      <td>5</td>\n",
       "      <td>0.002577</td>\n",
       "    </tr>\n",
       "    <tr>\n",
       "      <th>40</th>\n",
       "      <td>0.018970</td>\n",
       "      <td>225000</td>\n",
       "      <td>200000</td>\n",
       "      <td>250000</td>\n",
       "      <td>200000 to 249999</td>\n",
       "      <td>225.0</td>\n",
       "      <td>50</td>\n",
       "      <td>0.001897</td>\n",
       "    </tr>\n",
       "    <tr>\n",
       "      <th>41</th>\n",
       "      <td>0.023190</td>\n",
       "      <td>300000</td>\n",
       "      <td>250000</td>\n",
       "      <td>350000</td>\n",
       "      <td>250000 to 349999</td>\n",
       "      <td>300.0</td>\n",
       "      <td>100</td>\n",
       "      <td>0.001160</td>\n",
       "    </tr>\n",
       "  </tbody>\n",
       "</table>\n",
       "</div>"
      ],
      "text/plain": [
       "     Percent  Midpoint  bottom     top        range_text  midpoint_000s  \\\n",
       "37  0.002998    187500  185000  190000  185000 to 189999          187.5   \n",
       "38  0.003138    192500  190000  195000  190000 to 194999          192.5   \n",
       "39  0.002577    197500  195000  200000  195000 to 199999          197.5   \n",
       "40  0.018970    225000  200000  250000  200000 to 249999          225.0   \n",
       "41  0.023190    300000  250000  350000  250000 to 349999          300.0   \n",
       "\n",
       "   binwidth  percent_bar  \n",
       "37        5     0.002998  \n",
       "38        5     0.003138  \n",
       "39        5     0.002577  \n",
       "40       50     0.001897  \n",
       "41      100     0.001160  "
      ]
     },
     "execution_count": 3,
     "metadata": {},
     "output_type": "execute_result"
    }
   ],
   "source": [
    "df['bottom'],df['top'] = None, None\n",
    "df.loc[0,'bottom']= 0\n",
    "df.loc[0,'top'] = df.loc[0,'Midpoint'] + (df.loc[0,'Midpoint']-df.loc[0,'bottom'])\n",
    "for j in df.index[1:]:\n",
    "    df.loc[j,'bottom'] = df.loc[j-1,'top']\n",
    "    df.loc[j,'top'] =df.loc[j,'Midpoint'] + (df.loc[j,'Midpoint']-df.loc[j,'bottom'])\n",
    "df['range_text'] = df['bottom'].astype(str) + \" to \"+(df['top']-1).astype(str)\n",
    "df['midpoint_000s'] = df['Midpoint']/1000\n",
    "df['binwidth'] = (df.top - df.bottom)/1000\n",
    "df['percent_bar'] = df['Percent']\n",
    "df.loc[40,'percent_bar'] = df.loc[40,'percent_bar']/10\n",
    "df.loc[41,'percent_bar'] = df.loc[41,'percent_bar']/20\n",
    "df.tail()"
   ]
  },
  {
   "cell_type": "markdown",
   "metadata": {},
   "source": [
    "# Part A\n",
    "\n",
    "We want to display the histogram for this data. We have set above the bin width to correspond with range size (normalized to 1000s). \n",
    "\n",
    "Each bar should be centered at the normalized midpoint, with specified width, and height of df['Percent']"
   ]
  },
  {
   "cell_type": "code",
   "execution_count": 4,
   "metadata": {
    "collapsed": false
   },
   "outputs": [
    {
     "data": {
      "text/plain": [
       "<matplotlib.text.Text at 0xaa8c438>"
      ]
     },
     "execution_count": 4,
     "metadata": {},
     "output_type": "execute_result"
    },
    {
     "data": {
      "image/png": "[encoded data removed]",
      "text/plain": [
       "<matplotlib.figure.Figure at 0x244b8d0>"
      ]
     },
     "metadata": {},
     "output_type": "display_data"
    }
   ],
   "source": [
    "fig, ax = plt.subplots()\n",
    "rects1 = ax.bar(df['bottom']/1000, df['percent_bar'], df['binwidth'], color='r')\n",
    "ax.set_ylabel('Percent of Population')\n",
    "ax.set_xlabel('Household Income Range')\n",
    "ax.set_title('Distribution of Household Income')"
   ]
  },
  {
   "cell_type": "markdown",
   "metadata": {},
   "source": [
    "# Part B\n",
    "\n",
    "## GMM to fit lognormal dist\n",
    "\n",
    "We want to estimate the mean and variance parameters to match the moments of the data to the predicted lognormal distribution."
   ]
  },
  {
   "cell_type": "code",
   "execution_count": 5,
   "metadata": {
    "collapsed": false
   },
   "outputs": [],
   "source": [
    "import scipy.stats as sts\n",
    "\n",
    "def errors_lognorm(params, *args):\n",
    "    # Function to return a 42x1\n",
    "    mu, sigma = params\n",
    "    pdf_vals, bottom_points,top_points = args\n",
    "    bottom_points[0] = 0.5\n",
    "    lower_cdfval = sts.norm.cdf(np.log(list(bottom_points)),loc=mu,scale=sigma)\n",
    "    upper_cdfval = sts.norm.cdf(np.log(list(top_points)),loc=mu,scale=sigma)\n",
    "    lower_cdfval[0]=0\n",
    "    upper_cdfval[41]=1\n",
    "    prob_int = upper_cdfval - lower_cdfval # difference the CDFs to find out interval probability\n",
    "    error_vec = pdf_vals - prob_int\n",
    "    return np.array(error_vec)\n",
    "\n",
    "def crit_lognorm(params, *args):\n",
    "    mu, sigma = params\n",
    "    pdf_vals, bottom_points, top_points, W = args\n",
    "    errors = errors_lognorm([mu,sigma],pdf_vals, bottom_points,top_points)\n",
    "    objective = np.dot(np.dot(errors.T, W), errors) \n",
    "    return objective"
   ]
  },
  {
   "cell_type": "code",
   "execution_count": 6,
   "metadata": {
    "collapsed": false
   },
   "outputs": [
    {
     "name": "stderr",
     "output_type": "stream",
     "text": [
      "C:\\Users\\Olivia\\Anaconda\\lib\\site-packages\\ipykernel\\__main__.py:7: SettingWithCopyWarning: \n",
      "A value is trying to be set on a copy of a slice from a DataFrame\n",
      "\n",
      "See the caveats in the documentation: http://pandas.pydata.org/pandas-docs/stable/indexing.html#indexing-view-versus-copy\n"
     ]
    },
    {
     "data": {
      "text/plain": [
       "0.94538158884705625"
      ]
     },
     "execution_count": 6,
     "metadata": {},
     "output_type": "execute_result"
    }
   ],
   "source": [
    "crit_lognorm([5000,2500],df['Percent'],df['bottom'],df['top'],np.eye(42))"
   ]
  },
  {
   "cell_type": "code",
   "execution_count": 7,
   "metadata": {
    "collapsed": false
   },
   "outputs": [
    {
     "name": "stderr",
     "output_type": "stream",
     "text": [
      "C:\\Users\\Olivia\\Anaconda\\lib\\site-packages\\ipykernel\\__main__.py:7: SettingWithCopyWarning: \n",
      "A value is trying to be set on a copy of a slice from a DataFrame\n",
      "\n",
      "See the caveats in the documentation: http://pandas.pydata.org/pandas-docs/stable/indexing.html#indexing-view-versus-copy\n"
     ]
    },
    {
     "name": "stdout",
     "output_type": "stream",
     "text": [
      "('mu_GMM1=', 5000.0, ' sig_GMM1=', 1000.0)\n"
     ]
    }
   ],
   "source": [
    "# optimizing\n",
    "import scipy.optimize as opt\n",
    "gmm_init = [5000,1000] # initial values\n",
    "W_init = np.multiply(df['Percent'].values,np.eye(42))\n",
    "gmm_args = (df['Percent'],df['bottom'],df['top'],W_init)\n",
    "results = opt.minimize(crit_lognorm, gmm_init, args=(gmm_args), method='L-BFGS-B', bounds=((None, None), (1e-10, None)))\n",
    "mu_GMM1, sig_GMM1 = results.x\n",
    "print('mu_GMM1=', mu_GMM1, ' sig_GMM1=', sig_GMM1)"
   ]
  },
  {
   "cell_type": "code",
   "execution_count": 8,
   "metadata": {
    "collapsed": false
   },
   "outputs": [
    {
     "data": {
      "text/plain": [
       "      fun: 0.023789328370220554\n",
       " hess_inv: <2x2 LbfgsInvHessProduct with dtype=float64>\n",
       "      jac: array([  0.00000000e+00,  -6.93889390e-10])\n",
       "  message: 'CONVERGENCE: NORM_OF_PROJECTED_GRADIENT_<=_PGTOL'\n",
       "     nfev: 3\n",
       "      nit: 0\n",
       "   status: 0\n",
       "  success: True\n",
       "        x: array([ 5000.,  1000.])"
      ]
     },
     "execution_count": 8,
     "metadata": {},
     "output_type": "execute_result"
    }
   ],
   "source": [
    "results"
   ]
  },
  {
   "cell_type": "code",
   "execution_count": 91,
   "metadata": {
    "collapsed": false
   },
   "outputs": [
    {
     "data": {
      "text/plain": [
       "array([[ 0.03519016,  0.        ,  0.        , ...,  0.        ,\n",
       "         0.        ,  0.        ],\n",
       "       [ 0.        ,  0.04106206,  0.        , ...,  0.        ,\n",
       "         0.        ,  0.        ],\n",
       "       [ 0.        ,  0.        ,  0.05885948, ...,  0.        ,\n",
       "         0.        ,  0.        ],\n",
       "       ..., \n",
       "       [ 0.        ,  0.        ,  0.        , ...,  0.0025767 ,\n",
       "         0.        ,  0.        ],\n",
       "       [ 0.        ,  0.        ,  0.        , ...,  0.        ,\n",
       "         0.01897015,  0.        ],\n",
       "       [ 0.        ,  0.        ,  0.        , ...,  0.        ,\n",
       "         0.        ,  0.02319032]])"
      ]
     },
     "execution_count": 91,
     "metadata": {},
     "output_type": "execute_result"
    }
   ],
   "source": [
    "W_init"
   ]
  }
 ],
 "metadata": {
  "kernelspec": {
   "display_name": "Python 2",
   "language": "python",
   "name": "python2"
  },
  "language_info": {
   "codemirror_mode": {
    "name": "ipython",
    "version": 2
   },
   "file_extension": ".py",
   "mimetype": "text/x-python",
   "name": "python",
   "nbconvert_exporter": "python",
   "pygments_lexer": "ipython2",
   "version": "2.7.13"
  }
 },
 "nbformat": 4,
 "nbformat_minor": 2
}
