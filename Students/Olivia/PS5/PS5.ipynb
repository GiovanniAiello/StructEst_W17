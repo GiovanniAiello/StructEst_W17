{
 "cells": [
  {
   "cell_type": "markdown",
   "metadata": {},
   "source": [
    "### Problem Set 5\n",
    "\n",
    "### Olivia Natan"
   ]
  },
  {
   "cell_type": "markdown",
   "metadata": {},
   "source": [
    "We are working again with the Brock & Mirman model, which we will estimate this time via GMM and SMM.\n",
    "\n",
    "Recall that our model is (with a slight change of assumption on $\\epsilon$): \n",
    "\n",
    "$$ (c_t)^{-1} - \\beta E[r_{t+1} c_{t+1}^{-1}]=0$$\n",
    "\n",
    "$$c_t + k_{t+1} − w_t − r_t k_t = 0 $$\n",
    "\n",
    "$$w_t - (1-\\alpha)exp(z_t) k_t^{\\alpha}=0$$\n",
    "\n",
    "$$r_t - \\alpha exp(z_t) k_t^{\\alpha-1}=0$$\n",
    "\n",
    "$$z_t = \\rho z_{t-1} + (1-\\rho) \\mu + \\epsilon_t$$\n",
    "\n",
    "$$where \\;\\; E[\\epsilon_t]=0 $$\n",
    "\n",
    "We want to estimate $(\\alpha, \\beta, \\rho, \\mu, \\sigma)$ where  $\\alpha ,\\beta \\in (0,1)$, $\\mu, \\sigma >0$ and $\\rho \\in (-1, 1)$.\n",
    "\n",
    "The data we have is 100 quarters of aggregate measures of $c_t$, consumption, $k_{t+1}$, savings from period t, $r_t$, the interest rate, and the wage per unit labor $w_t$."
   ]
  },
  {
   "cell_type": "code",
   "execution_count": 1,
   "metadata": {
    "collapsed": true
   },
   "outputs": [],
   "source": [
    "import pandas as pd\n",
    "import numpy as np\n",
    "import matplotlib.pyplot as mpl\n",
    "import seaborn as sns\n",
    "import scipy.stats as sts\n",
    "np.random.seed(200)\n",
    "%matplotlib inline"
   ]
  },
  {
   "cell_type": "code",
   "execution_count": 2,
   "metadata": {
    "collapsed": false
   },
   "outputs": [
    {
     "data": {
      "text/html": [
       "<div>\n",
       "<table border=\"1\" class=\"dataframe\">\n",
       "  <thead>\n",
       "    <tr style=\"text-align: right;\">\n",
       "      <th></th>\n",
       "      <th>ct</th>\n",
       "      <th>kt</th>\n",
       "      <th>wt</th>\n",
       "      <th>rt</th>\n",
       "      <th>tt</th>\n",
       "    </tr>\n",
       "  </thead>\n",
       "  <tbody>\n",
       "    <tr>\n",
       "      <th>0</th>\n",
       "      <td>1.067109e+07</td>\n",
       "      <td>8.040697e+06</td>\n",
       "      <td>1.059438e+07</td>\n",
       "      <td>0.954120</td>\n",
       "      <td>1</td>\n",
       "    </tr>\n",
       "    <tr>\n",
       "      <th>1</th>\n",
       "      <td>1.169487e+07</td>\n",
       "      <td>7.595072e+06</td>\n",
       "      <td>1.161079e+07</td>\n",
       "      <td>1.107009</td>\n",
       "      <td>2</td>\n",
       "    </tr>\n",
       "    <tr>\n",
       "      <th>2</th>\n",
       "      <td>9.292394e+06</td>\n",
       "      <td>8.323735e+06</td>\n",
       "      <td>9.225588e+06</td>\n",
       "      <td>0.802596</td>\n",
       "      <td>3</td>\n",
       "    </tr>\n",
       "    <tr>\n",
       "      <th>3</th>\n",
       "      <td>7.913165e+06</td>\n",
       "      <td>6.613792e+06</td>\n",
       "      <td>7.856274e+06</td>\n",
       "      <td>0.860176</td>\n",
       "      <td>4</td>\n",
       "    </tr>\n",
       "    <tr>\n",
       "      <th>4</th>\n",
       "      <td>8.140994e+06</td>\n",
       "      <td>5.632136e+06</td>\n",
       "      <td>8.082466e+06</td>\n",
       "      <td>1.039183</td>\n",
       "      <td>5</td>\n",
       "    </tr>\n",
       "  </tbody>\n",
       "</table>\n",
       "</div>"
      ],
      "text/plain": [
       "             ct            kt            wt        rt  tt\n",
       "0  1.067109e+07  8.040697e+06  1.059438e+07  0.954120   1\n",
       "1  1.169487e+07  7.595072e+06  1.161079e+07  1.107009   2\n",
       "2  9.292394e+06  8.323735e+06  9.225588e+06  0.802596   3\n",
       "3  7.913165e+06  6.613792e+06  7.856274e+06  0.860176   4\n",
       "4  8.140994e+06  5.632136e+06  8.082466e+06  1.039183   5"
      ]
     },
     "execution_count": 2,
     "metadata": {},
     "output_type": "execute_result"
    }
   ],
   "source": [
    "df = pd.read_csv('MacroSeries.txt',sep=',',header=None,names=['ct','kt','wt','rt'])\n",
    "df['tt'] = df.index+1\n",
    "df.head()"
   ]
  },
  {
   "cell_type": "markdown",
   "metadata": {},
   "source": [
    "## Problem 1 : Estimate via GMM\n",
    "\n",
    "### Part A: we want to recover estimates of $\\alpha$, $\\beta$, $\\rho$, and $\\mu$ via GMM\n",
    "\n",
    "We want to estimate $\\alpha$ and $\\beta$.\n",
    "We use the following 2 moment conditions based on the Euler eqn:\n",
    "\n",
    "$$E\\left[\\beta \\alpha exp(z_{t+1})k_{t+1}^{1-\\alpha} \\frac{c_t}{c_{t+1}}-1\\right]=0$$\n",
    "\n",
    "$$E\\left[(\\beta  \\alpha exp(z_{t+1})k_{t+1}^{1-\\alpha} \\frac{c_t}{c_{t+1}}-1)w_t\\right]=0$$\n",
    "\n",
    "We will use the unconditional moment restriction: $E[\\epsilon_t]=0$. We use data on $r_t$ and $k_t$ and equation (4) to back\n",
    "out a time series for $z_t$. \n",
    "\n",
    "In particular, note that we can rewrite the equation by moving terms around and taking logs to show: $$log\\left(\\frac{r_t}{\\alpha k_t^{\\alpha-1}}\\right) = z_t$$\n",
    "\n",
    "\n",
    "Then note that our unconditional moment restriction also implies that $E[\\epsilon_{t+1}] = 0$, which in turn implies that $E[\\epsilon_{t+1}\\epsilon_t] = 0$.\n",
    "\n",
    "This allows us to estimate $\\rho$ and $\\mu$.\n",
    "\n",
    "Specifically we can take the following 2 moment restrictions to the data (noting we plug in the above equivalence for $z_t$ as needed:\n",
    "\n",
    "$$E\\left[z_{t+1} - \\rho z_t - (1-\\rho)\\mu \\right]=0$$\n",
    "\n",
    "$$E\\left[(z_{t+1} - \\rho z_t - (1-\\rho)\\mu )z_t\\right]=0$$"
   ]
  },
  {
   "cell_type": "code",
   "execution_count": 3,
   "metadata": {
    "collapsed": true
   },
   "outputs": [],
   "source": [
    "# Define a function that returns z given r, k, alpha\n",
    "def get_zt(rs,ks,alpha) :\n",
    "    #if ((alpha>1) or (alpha<0)):\n",
    "    #    print('invalid value for alpha')\n",
    "    #    return\n",
    "    # model-based function to return a scalar or vector given 2 vector and one scalar inputs\n",
    "    zt = np.log(rs/(alpha*(ks**(1-alpha))))\n",
    "    return zt"
   ]
  },
  {
   "cell_type": "code",
   "execution_count": 28,
   "metadata": {
    "collapsed": true
   },
   "outputs": [],
   "source": [
    "def errors_A(params,*args):\n",
    "    alpha, beta, rho, mu = params\n",
    "    rs,ks,cs,ws = args\n",
    "    zt = get_zt(rs,ks,alpha)\n",
    "    cplus1 = cs[1:]\n",
    "    kplus1 = ks[1:]\n",
    "    rplus1 = rs[1:]\n",
    "    rs = rs[:len(cs)-1]\n",
    "    ks = ks[:len(ks)-1]\n",
    "    cs = cs[:len(cs)-1]\n",
    "    ws = ws[:len(ws)-1] # shorten so we have 99 rows\n",
    "    ztplus1 = zt[1:]\n",
    "    zt = zt[0:len(zt)-1]\n",
    "    mom1 = (ztplus1/(rho*zt + (1-rho)*mu))-1\n",
    "    mom2 = mom1*zt\n",
    "    mom3= beta*alpha*np.exp(ztplus1)*(kplus1**(alpha-1))*cs*(cplus1**-1) -1\n",
    "    mom4= (beta*alpha*np.exp(ztplus1)*(kplus1**(alpha-1))*cs*(cplus1**-1) -1)*ws\n",
    "    errors = np.array([np.mean(mom1),np.mean(mom2),np.mean(mom3),np.mean(mom4)])\n",
    "    return errors"
   ]
  },
  {
   "cell_type": "code",
   "execution_count": 5,
   "metadata": {
    "collapsed": true
   },
   "outputs": [],
   "source": [
    "# define our weighting matrix as the identity\n",
    "def crit_A(params, *args):\n",
    "    alpha,beta,rho,mu= params\n",
    "    rs,ks,cs,ws,W=args\n",
    "    errvec = errors_A([alpha,beta,rho,mu],rs,ks,cs,ws)\n",
    "    objective = np.dot(errvec.T,np.dot(W,errvec))\n",
    "    return objective"
   ]
  },
  {
   "cell_type": "code",
   "execution_count": 29,
   "metadata": {
    "collapsed": false
   },
   "outputs": [
    {
     "data": {
      "text/plain": [
       "108443700938634.08"
      ]
     },
     "execution_count": 29,
     "metadata": {},
     "output_type": "execute_result"
    }
   ],
   "source": [
    "crit_A([0.5,0.95,0.7,9],df['rt'],df['kt'],df['ct'],df['wt'],np.eye(4))"
   ]
  },
  {
   "cell_type": "code",
   "execution_count": 40,
   "metadata": {
    "collapsed": false
   },
   "outputs": [
    {
     "data": {
      "text/plain": [
       "                        fun: 0.96237949827000535\n",
       " lowest_optimization_result:       fun: 0.96237949827000535\n",
       " hess_inv: <4x4 LbfgsInvHessProduct with dtype=float64>\n",
       "      jac: array([  1.00489262e+09,  -1.53895546e+06,   9.66188241e-03,\n",
       "         3.25022587e-01])\n",
       "  message: 'ABNORMAL_TERMINATION_IN_LNSRCH'\n",
       "     nfev: 1185\n",
       "      nit: 16\n",
       "   status: 2\n",
       "  success: False\n",
       "        x: array([ 0.99926199,  0.99966979, -0.76183583,  0.32414719])\n",
       "                    message: ['requested number of basinhopping iterations completed successfully']\n",
       "      minimization_failures: 87\n",
       "                       nfev: 98515\n",
       "                        nit: 100\n",
       "                          x: array([ 0.99926199,  0.99966979, -0.76183583,  0.32414719])"
      ]
     },
     "execution_count": 40,
     "metadata": {},
     "output_type": "execute_result"
    }
   ],
   "source": [
    "import scipy.optimize as opt\n",
    "GMM_A_initvals = [0.3,0.9,0.4,0.7]\n",
    "W_init = np.eye(4)\n",
    "GMM_A_args = (df['rt'],df['kt'],df['ct'],df['wt'],W_init)\n",
    "bounds_A = ((1e-10,1-1e-10),(1e-10,1-1e-10),(-1+1e-10,1-1e-10),(1e-10,None))\n",
    "#results_A = opt.minimize(crit_A,GMM_A_initvals,args=(GMM_A_args),method='L-BFGS-B',bounds=bounds_A,tol=1e-12,options={'eps':1e-5})\n",
    "results_A = opt.basinhopping(crit_A,GMM_A_initvals,minimizer_kwargs=dict(args=(GMM_A_args),method='L-BFGS-B',bounds=bounds_A,tol=1e-12))\n",
    "results_A"
   ]
  },
  {
   "cell_type": "code",
   "execution_count": 41,
   "metadata": {
    "collapsed": false
   },
   "outputs": [
    {
     "name": "stdout",
     "output_type": "stream",
     "text": [
      "[ 0.99926199  0.99966979 -0.76183583  0.32414719]\n",
      "0.96237949827\n"
     ]
    }
   ],
   "source": [
    "print(results_A.x)\n",
    "print(results_A.fun)"
   ]
  },
  {
   "cell_type": "code",
   "execution_count": 42,
   "metadata": {
    "collapsed": false
   },
   "outputs": [
    {
     "data": {
      "text/plain": [
       "array([[ 1.,  0.,  0.,  0.],\n",
       "       [ 0.,  1.,  0.,  0.],\n",
       "       [ 0.,  0.,  1.,  0.],\n",
       "       [ 0.,  0.,  0.,  1.]])"
      ]
     },
     "execution_count": 42,
     "metadata": {},
     "output_type": "execute_result"
    }
   ],
   "source": [
    "results_A.lowest_optimization_result.hess_inv.todense()"
   ]
  },
  {
   "cell_type": "markdown",
   "metadata": {},
   "source": [
    "## Problem 2: Estimate Via SMM\n",
    "\n",
    "We can take the following analytical solution to allow us to simulate data: \n",
    "\n",
    "$$k_{t+1} = \\alpha \\beta exp(z_t)k_t^{\\alpha}$$\n",
    "\n",
    "With this, we need a few initial conditions to do the simulation. First, let $z_1=\\mu$, and let $k_{1,sim} = mean(k_t)$ from the data. These are the same across simulations.\n",
    "\n",
    "What varies across simulations is our draws for $\\epsilon \\sim N(0,\\sigma)$. Thus the parameters we are estimating are $(\\alpha, \\beta, \\rho, \\mu, \\sigma)$. \n",
    "\n",
    "With our draws, for each simulation, we can compute the series of productivity shocks. With those, and the initial condition for capital, we can forward solve for each period's savings. \n",
    "\n",
    "With these, we can use model equations to solve for $w_t$ and $r_t$ based on the model given parameters, then use the budget constrain to back out consumption series.\n",
    "\n",
    "The moments we will be considering are as follows: \n",
    "\n",
    "1) $mean(c_t)$\n",
    "\n",
    "2) $mean(k_t)$\n",
    "\n",
    "3) $var(c_t)$\n",
    "\n",
    "4) $var(k_t)$\n",
    "\n",
    "5) $corr(c_t, k_t)$\n",
    "\n",
    "6) $corr(k_t, k_{t+1})$\n",
    "\n",
    "For the simulations, we let $T=100$ and $S=1000$. We also specify the bounds as follows: $\\alpha,\\beta \\in [0.01,0.99]$, $\\rho \\in [-0.99,0.99]$, $\\mu \\in [-0.5,1]$, and $\\sigma \\in [0.001,1]$. We use the identity as the weighting matrix."
   ]
  },
  {
   "cell_type": "code",
   "execution_count": 7,
   "metadata": {
    "collapsed": true
   },
   "outputs": [],
   "source": [
    "def sim_zt(rho,mu,nus,sigma):\n",
    "    #nus are 100 deviates from normal 0,1 stored outside optimization. We can just multiply by sqrt(sigma)\n",
    "    zt = np.zeros(shape=(100,1000))\n",
    "    epsilons = nus*(sigma**0.5)\n",
    "    zt[0] = mu\n",
    "    for i in range(1,100):\n",
    "        zt[i] = rho*zt[i-1] + (1-rho)*mu + epsilons.T[i]\n",
    "    return zt"
   ]
  },
  {
   "cell_type": "code",
   "execution_count": 8,
   "metadata": {
    "collapsed": true
   },
   "outputs": [],
   "source": [
    "def sim_kt(alpha,beta,zts,k1):\n",
    "    # k1 set from mean of data\n",
    "    kt = np.zeros(shape=(100,1000))\n",
    "    kt[0] = k1\n",
    "    for i in range(1,100):\n",
    "        kt[i] = alpha*beta*np.exp(zts[i-1])*(kt[i-1]**alpha)\n",
    "    return kt"
   ]
  },
  {
   "cell_type": "code",
   "execution_count": 9,
   "metadata": {
    "collapsed": true
   },
   "outputs": [],
   "source": [
    "def sim_wt(alpha,zts,kts):\n",
    "    wt = (1-alpha)*np.exp(zts)*(kts**alpha)\n",
    "    return wt\n",
    "\n",
    "def sim_rt(alpha,zts,kts):\n",
    "    rt = alpha*np.exp(zts)*(kts**(1-alpha))\n",
    "    return rt"
   ]
  },
  {
   "cell_type": "code",
   "execution_count": 10,
   "metadata": {
    "collapsed": true
   },
   "outputs": [],
   "source": [
    "def sim_ct(kts,wts,rts): #$$c_t + k_{t+1} − w_t − r_t k_t = 0 $$\n",
    "    # can only get 99 ct's this way (unless we assume k_101=0 )\n",
    "    ktplus1 = np.roll(kts,-1)\n",
    "    ktplus1[99] = 0\n",
    "    ct = wts + rts*kts - ktplus1\n",
    "    return ct"
   ]
  },
  {
   "cell_type": "code",
   "execution_count": 11,
   "metadata": {
    "collapsed": false
   },
   "outputs": [],
   "source": [
    "def get_moments(cts,kts):\n",
    "    if cts.ndim ==1:\n",
    "        mean_ct = cts.mean()\n",
    "        mean_kt = kts.mean()\n",
    "        var_ct = cts.var()\n",
    "        var_kt = kts.var()\n",
    "        corr_ct_kt = np.corrcoef(cts,kts)[0][1]\n",
    "        ktplus1 = kts[1:]\n",
    "        ktshort = kts[:99]\n",
    "        corr_kt_kt1 = np.corrcoef(ktshort,ktplus1)[0][1]\n",
    "    if cts.ndim==2:\n",
    "        mean_ct =cts.mean()\n",
    "        mean_kt = kts.mean()\n",
    "        var_ct = cts.var(axis=1).mean()\n",
    "        var_kt = kts.var(axis=1).mean()\n",
    "        indiv_corrs = np.zeros(shape=(cts.shape[0],2))\n",
    "        for i in range(0,cts.shape[0]):\n",
    "            indiv_corrs[i][0] = np.corrcoef(cts[i],kts[i])[0][1]\n",
    "            ktplus1 = kts[i][1:]\n",
    "            ktshort = kts[i][:99]\n",
    "            indiv_corrs[i][1] = np.corrcoef(ktshort,ktplus1)[0][1]\n",
    "        corr_ct_kt, corr_kt_kt1 = indiv_corrs.mean(axis=0)\n",
    "    return np.array([mean_ct,mean_kt,var_ct,var_kt,corr_ct_kt,corr_kt_kt1])"
   ]
  },
  {
   "cell_type": "code",
   "execution_count": 12,
   "metadata": {
    "collapsed": true
   },
   "outputs": [],
   "source": [
    "def sim_data(params,*args):\n",
    "    ## parameters are 5 model parameters\n",
    "    alpha,beta,rho,mu,sigma = params\n",
    "    nus,kmean = args\n",
    "    zts = sim_zt(rho,mu,nus,sigma)\n",
    "    kts = sim_kt(alpha,beta,zts,kmean)\n",
    "    wts = sim_wt(alpha,zts,kts)\n",
    "    rts = sim_rt(alpha,zts,kts)\n",
    "    cts = sim_ct(kts,wts,rts)\n",
    "    return np.array([cts.T,kts.T])"
   ]
  },
  {
   "cell_type": "code",
   "execution_count": 103,
   "metadata": {
    "collapsed": false
   },
   "outputs": [
    {
     "data": {
      "text/plain": [
       "array([  1.57796931e+08,  -7.39779692e+06,   2.80471840e+18,\n",
       "        -2.29219881e+12,   1.20975111e-01,   1.22400595e-01])"
      ]
     },
     "execution_count": 103,
     "metadata": {},
     "output_type": "execute_result"
    }
   ],
   "source": [
    "get_moments(sim_data([0.5,0.9,0.6,0.5,0.5],nus,df['kt'].mean())[0],sim_data([0.5,0.9,0.6,0.5,0.5],nus,df['kt'].mean())[1])-get_moments(df['ct'],df['kt'])"
   ]
  },
  {
   "cell_type": "code",
   "execution_count": 13,
   "metadata": {
    "collapsed": false
   },
   "outputs": [],
   "source": [
    "def error_vec(params, nus,kmean, simple):\n",
    "    alpha,beta,rho,mu,sigma = params\n",
    "    simulated_data = sim_data([alpha,beta,rho,mu,sigma],nus,kmean)\n",
    "    sim_mom = get_moments(simulated_data[0],simulated_data[1])\n",
    "    data_mom=get_moments(df['ct'],df['kt'])\n",
    "    if simple:\n",
    "        errors = sim_mom - data_mom \n",
    "    else:\n",
    "        errors = (sim_mom - data_mom)/data_mom\n",
    "    return errors\n",
    "\n",
    "def crit_B(params,*args):\n",
    "    alpha,beta,rho,mu,sigma = params\n",
    "    nus,kmean,W = args\n",
    "    errors = error_vec([alpha,beta,rho,mu,sigma],nus,kmean,simple=False)\n",
    "    crit = np.dot(np.dot(errors.T, W), errors)\n",
    "    #print(crit)\n",
    "    return crit"
   ]
  },
  {
   "cell_type": "code",
   "execution_count": 14,
   "metadata": {
    "collapsed": false
   },
   "outputs": [],
   "source": [
    "# Now we want to generate our simulated nu draws outside data\n",
    "nus = sts.norm.rvs(size=(1000*100)).reshape(1000,100) # 100 draws for each simulation\n",
    "# now we can call each element as the draws for each simulation\n",
    "k1 = df['kt'].mean()"
   ]
  },
  {
   "cell_type": "code",
   "execution_count": 15,
   "metadata": {
    "collapsed": false,
    "scrolled": true
   },
   "outputs": [
    {
     "data": {
      "text/plain": [
       "      fun: 0.36711363382317269\n",
       " hess_inv: <5x5 LbfgsInvHessProduct with dtype=float64>\n",
       "      jac: array([ -7.63438660e+00,  -5.09908782e-04,   1.23234756e-06,\n",
       "        -2.57427413e-04,   3.31135119e-04])\n",
       "  message: 'CONVERGENCE: REL_REDUCTION_OF_F_<=_FACTR*EPSMCH'\n",
       "     nfev: 1146\n",
       "      nit: 101\n",
       "   status: 0\n",
       "  success: True\n",
       "        x: array([ 0.99      ,  0.51269812, -0.74645198,  0.82338009,  0.00335112])"
      ]
     },
     "execution_count": 15,
     "metadata": {},
     "output_type": "execute_result"
    }
   ],
   "source": [
    "import scipy.optimize as opt\n",
    "SMM_init_vals = [0.8,  0.5, 0,  0.9, 0.01]\n",
    "W_init = np.eye(6)\n",
    "SMM_args = (nus,k1,W_init)\n",
    "bounds_SMM = ((0.01,0.99),(0.01,0.99),(-0.99,0.99),(-0.5,1),(0.001,1))\n",
    "results_SMM = opt.minimize(crit_B,SMM_init_vals, args=(SMM_args),method='L-BFGS-B',bounds=bounds_SMM,tol=1e-12)\n",
    "results_SMM"
   ]
  },
  {
   "cell_type": "code",
   "execution_count": 16,
   "metadata": {
    "collapsed": false
   },
   "outputs": [
    {
     "name": "stdout",
     "output_type": "stream",
     "text": [
      "('Errors at Optimum: ', array([ -2.45818015e+06,  -2.61487079e+06,   5.90772174e+11,\n",
      "        -1.18450866e+12,  -4.37591408e-02,   5.19127529e-02]))\n",
      "('Data Moments', array([  1.05208478e+07,   7.47254456e+06,   5.69942826e+12,\n",
      "         2.84500086e+12,   8.79024854e-01,   8.77098783e-01]))\n"
     ]
    }
   ],
   "source": [
    "print(\"Errors at Optimum: \",error_vec(results_SMM.x,nus,k1,simple=True))\n",
    "print(\"Data Moments\",get_moments(df['ct'],df['kt']))"
   ]
  },
  {
   "cell_type": "code",
   "execution_count": 17,
   "metadata": {
    "collapsed": false
   },
   "outputs": [
    {
     "name": "stdout",
     "output_type": "stream",
     "text": [
      "[ 0.99        0.51269812 -0.74645198  0.82338009  0.00335112]\n",
      "0.367113633823\n"
     ]
    }
   ],
   "source": [
    "print(results_SMM.x)\n",
    "print(results_SMM.fun)"
   ]
  }
 ],
 "metadata": {
  "kernelspec": {
   "display_name": "Python 2",
   "language": "python",
   "name": "python2"
  },
  "language_info": {
   "codemirror_mode": {
    "name": "ipython",
    "version": 2
   },
   "file_extension": ".py",
   "mimetype": "text/x-python",
   "name": "python",
   "nbconvert_exporter": "python",
   "pygments_lexer": "ipython2",
   "version": "2.7.13"
  }
 },
 "nbformat": 4,
 "nbformat_minor": 2
}
