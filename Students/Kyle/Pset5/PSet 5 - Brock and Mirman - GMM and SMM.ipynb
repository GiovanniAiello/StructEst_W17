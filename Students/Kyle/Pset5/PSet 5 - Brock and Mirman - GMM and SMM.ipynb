{
 "cells": [
  {
   "cell_type": "markdown",
   "metadata": {},
   "source": [
    "Question 1 Parts (a) and (b)"
   ]
  },
  {
   "cell_type": "code",
   "execution_count": 1,
   "metadata": {
    "collapsed": false
   },
   "outputs": [
    {
     "name": "stdout",
     "output_type": "stream",
     "text": [
      "           c_t       cap_t         w_t    r_t\n",
      "0   10700000.0   8040000.0  10600000.0  0.954\n",
      "1   11700000.0   7600000.0  11600000.0  1.110\n",
      "2    9290000.0   8320000.0   9230000.0  0.803\n",
      "3    7910000.0   6610000.0   7860000.0  0.860\n",
      "4    8140000.0   5630000.0   8080000.0  1.040\n",
      "5    8270000.0   5790000.0   8210000.0  1.030\n",
      "6    8630000.0   5890000.0   8560000.0  1.050\n",
      "7    9010000.0   6140000.0   8950000.0  1.060\n",
      "8    8790000.0   6410000.0   8730000.0  0.985\n",
      "9    9720000.0   6260000.0   9650000.0  1.120\n",
      "10  10100000.0   6920000.0   9980000.0  1.040\n",
      "11   9720000.0   7150000.0   9650000.0  0.977\n",
      "12  11000000.0   6920000.0  10900000.0  1.140\n",
      "13  13400000.0   7810000.0  13300000.0  1.230\n",
      "14  11700000.0   9540000.0  11600000.0  0.878\n",
      "15  10700000.0   8290000.0  10600000.0  0.926\n",
      "16  11000000.0   7600000.0  10900000.0  1.040\n",
      "17  10100000.0   7800000.0  10100000.0  0.935\n",
      "18   8230000.0   7220000.0   8170000.0  0.819\n",
      "19   9120000.0   5860000.0   9050000.0  1.120\n",
      "20   8930000.0   6490000.0   8860000.0  0.989\n",
      "21   8170000.0   6350000.0   8110000.0  0.924\n",
      "22   7310000.0   5820000.0   7260000.0  0.904\n",
      "23   7770000.0   5210000.0   7720000.0  1.070\n",
      "24   8270000.0   5530000.0   8210000.0  1.080\n",
      "25   7790000.0   5890000.0   7740000.0  0.952\n",
      "26   7200000.0   5550000.0   7150000.0  0.933\n",
      "27   8210000.0   5120000.0   8150000.0  1.150\n",
      "28   8900000.0   5840000.0   8840000.0  1.100\n",
      "29   8780000.0   6340000.0   8710000.0  0.996\n",
      "..         ...         ...         ...    ...\n",
      "70   9970000.0   6630000.0   9890000.0  1.080\n",
      "71  10100000.0   7090000.0  10000000.0  1.020\n",
      "72  11700000.0   7180000.0  11600000.0  1.170\n",
      "73  12300000.0   8320000.0  12200000.0  1.060\n",
      "74  11800000.0   8740000.0  11700000.0  0.973\n",
      "75  10200000.0   8410000.0  10100000.0  0.871\n",
      "76   9390000.0   7260000.0   9320000.0  0.930\n",
      "77   8410000.0   6680000.0   8350000.0  0.905\n",
      "78   8930000.0   5990000.0   8860000.0  1.070\n",
      "79   9430000.0   6350000.0   9360000.0  1.070\n",
      "80   9420000.0   6710000.0   9350000.0  1.010\n",
      "81  10300000.0   6700000.0  10200000.0  1.100\n",
      "82   9590000.0   7310000.0   9520000.0  0.943\n",
      "83  10500000.0   6830000.0  10500000.0  1.110\n",
      "84  10800000.0   7490000.0  10800000.0  1.040\n",
      "85  11900000.0   7710000.0  11800000.0  1.110\n",
      "86  12700000.0   8490000.0  12600000.0  1.070\n",
      "87  13900000.0   9030000.0  13800000.0  1.110\n",
      "88  12000000.0   9890000.0  11900000.0  0.869\n",
      "89  11600000.0   8510000.0  11500000.0  0.981\n",
      "90  11000000.0   8260000.0  10900000.0  0.959\n",
      "91  10800000.0   7850000.0  10800000.0  0.992\n",
      "92  12100000.0   7710000.0  12000000.0  1.130\n",
      "93  12600000.0   8600000.0  12500000.0  1.060\n",
      "94  12000000.0   8990000.0  11900000.0  0.961\n",
      "95  12200000.0   8550000.0  12100000.0  1.030\n",
      "96  15300000.0   8690000.0  15100000.0  1.260\n",
      "97  14700000.0  10900000.0  14600000.0  0.975\n",
      "98  13400000.0  10500000.0  13300000.0  0.922\n",
      "99  13500000.0   9560000.0  13400000.0  1.010\n",
      "\n",
      "[100 rows x 4 columns]\n"
     ]
    }
   ],
   "source": [
    "import numpy as np\n",
    "import scipy.stats as sts\n",
    "import statistics \n",
    "import pandas as pd\n",
    "import scipy.optimize as opt\n",
    "\n",
    "# Load in and display the data\n",
    "macroseries = pd.read_csv('Macroseries.csv', header=0)\n",
    "print(macroseries)\n",
    "#print(macroseries['c_t'].shift(-1)[0:99])\n",
    "#print(macroseries['k_t'])"
   ]
  },
  {
   "cell_type": "code",
   "execution_count": 2,
   "metadata": {
    "collapsed": true
   },
   "outputs": [],
   "source": [
    "def eq_4(r_t, k_t, alpha):\n",
    "\n",
    "    z_t = np.log(r_t/(alpha*k_t**(alpha-1)))\n",
    "\n",
    "    return z_t\n",
    "\n",
    "def moments(k_t, c_t, w_t, z_t, rho, mu, alpha, beta):\n",
    "    \n",
    "    c_t_1 = c_t.shift(-1)[0:99]\n",
    "    k_t_1 = k_t.shift(-1)[0:99]\n",
    "    z_t_1 = z_t.shift(-1)[0:99]\n",
    "    \n",
    "    w_t_cut = w_t[0:99]\n",
    "    c_t_cut = c_t[0:99]\n",
    "    k_t_cut = k_t[0:99]\n",
    "    z_t_cut = z_t[0:99]\n",
    "    \n",
    "    moment1 = np.mean(z_t_1 - rho*z_t_cut -(1-rho)*mu)\n",
    "    moment2 = np.mean((z_t_1 - rho*z_t_cut - (1-rho)*mu)*z_t_cut)\n",
    "    moment3 = np.mean(beta*alpha*np.exp(z_t_1)*k_t_1**(alpha-1)*(c_t_cut/c_t_1)-1)\n",
    "    moment4 = np.mean((beta*alpha*np.exp(z_t_1)*k_t_1**(alpha-1)*(c_t_cut/c_t_1)-1)*w_t_cut)\n",
    "    moments = np.array([moment1, moment2, moment3, moment4])\n",
    "    \n",
    "    return moments\n",
    "\n",
    "def criterion(params, *args):\n",
    "\n",
    "    rho, mu, alpha, beta = params\n",
    "    W, r_t, k_t, c_t, w_t = args\n",
    "    z_t = eq_4(r_t, k_t, alpha)\n",
    "    err = moments(k_t, c_t, w_t, z_t, rho, mu, alpha, beta)\n",
    "    crit_val = np.dot(np.dot(err, W), err.T) \n",
    "    \n",
    "    return crit_val"
   ]
  },
  {
   "cell_type": "code",
   "execution_count": 3,
   "metadata": {
    "collapsed": false
   },
   "outputs": [],
   "source": [
    "#np.dot(np.dot(moments(macroseries['cap_t'], macroseries['c_t'], macroseries['w_t'],\n",
    "#       eq_4(macroseries['r_t'], macroseries['cap_t'], 0.5), 0.5, 1, 0.5, 0.5),np.eye(4)),moments(macroseries['cap_t'], macroseries['c_t'], macroseries['w_t'],\n",
    "#        eq_4(macroseries['r_t'], macroseries['cap_t'], 0.5), 0.5, 1, 0.5, 0.5))"
   ]
  },
  {
   "cell_type": "code",
   "execution_count": 4,
   "metadata": {
    "collapsed": false
   },
   "outputs": [
    {
     "name": "stdout",
     "output_type": "stream",
     "text": [
      "Initial rho_0= 0.5 Initial mu_0= 1 Initial alpha_0= 0.5 Initial beta_0= 0.9\n",
      "                        fun: 1.123509979244492e-05\n",
      " lowest_optimization_result:       fun: 1.123509979244492e-05\n",
      " hess_inv: <4x4 LbfgsInvHessProduct with dtype=float64>\n",
      "      jac: array([ -1.16891093e-01,   0.00000000e+00,  -7.08871909e-04,\n",
      "         1.04315919e+06])\n",
      "  message: b'ABNORMAL_TERMINATION_IN_LNSRCH'\n",
      "     nfev: 225\n",
      "      nit: 2\n",
      "   status: 2\n",
      "  success: False\n",
      "        x: array([  1.        ,  20.34972448,   0.7282845 ,   0.98997495])\n",
      "                    message: ['requested number of basinhopping iterations completed successfully']\n",
      "      minimization_failures: 21\n",
      "                       nfev: 14115\n",
      "                        nit: 100\n",
      "                          x: array([  1.        ,  20.34972448,   0.7282845 ,   0.98997495])\n",
      "rho_GMM1= 0.9999999999  mu_GMM1= 20.3497244791 alpha_GMM1= 0.72828450065 beta_GMM1= 0.989974949244 Minimized Criterion= 1.12350997924e-05\n",
      "[  1.05143101e-03  -1.03193811e-03  -4.88036279e-05  -3.01036785e-03]\n"
     ]
    }
   ],
   "source": [
    "rho_init = 0.5\n",
    "mu_init = 1\n",
    "alpha_init = 0.5\n",
    "beta_init = 0.9\n",
    "print('Initial rho_0=', rho_init, 'Initial mu_0=', mu_init, 'Initial alpha_0=', alpha_init, 'Initial beta_0=', beta_init)\n",
    "params_init = np.array([rho_init, mu_init, alpha_init, beta_init])\n",
    "\n",
    "W_hat = np.eye(4)\n",
    "gmm_args = (W_hat, macroseries['r_t'], macroseries['cap_t'], macroseries['c_t'], macroseries['w_t'])\n",
    "#results = opt.minimize(criterion, params_init, args=(gmm_args), method='L-BFGS-B', bounds=((None, None), (1e-10, None)))\n",
    "minimizer_kwargs = dict(method=\"L-BFGS-B\", \n",
    "                       bounds= ((-1+1e-10, 1-1e-10), (-1e-10, None), (1e-10, 1-1e-10), (1e-10, 1-1e-10)),\n",
    "                       args = gmm_args)\n",
    "results = opt.basinhopping(criterion, params_init, minimizer_kwargs= minimizer_kwargs)\n",
    "print(results)\n",
    "rho_GMM1, mu_GMM1, alpha_GMM1, beta_GMM1 = results.x\n",
    "max_crit = results.fun\n",
    "#max_crit = criterion(np.array([mu_GMM1,sig_GMM1]),([income_per_thou, W_hat]))\n",
    "print('rho_GMM1=', rho_GMM1, ' mu_GMM1=', mu_GMM1, 'alpha_GMM1=', alpha_GMM1, 'beta_GMM1=', beta_GMM1, 'Minimized Criterion=', max_crit)\n",
    "\n",
    "z_t = eq_4(macroseries['r_t'], macroseries['cap_t'], alpha_GMM1)\n",
    "print(moments(macroseries['cap_t'], macroseries['c_t'], macroseries['w_t'], z_t, rho_GMM1, mu_GMM1, alpha_GMM1, beta_GMM1))"
   ]
  },
  {
   "cell_type": "markdown",
   "metadata": {},
   "source": [
    "Question 2 Part (a)"
   ]
  },
  {
   "cell_type": "code",
   "execution_count": 7,
   "metadata": {
    "collapsed": false
   },
   "outputs": [
    {
     "name": "stdout",
     "output_type": "stream",
     "text": [
      "[  2.02808652e+04   8.14820431e+04   5.66285172e+12   1.18097965e+12\n",
      "   6.32750064e-01   6.32750064e-01]\n"
     ]
    }
   ],
   "source": [
    "from scipy.stats import pearsonr\n",
    "\n",
    "def simulator(mu, sigma, rho, alpha, beta, T, S, k_init):\n",
    "    \n",
    "    eps = np.random.normal(0, sigma, [T,S])\n",
    "    \n",
    "    z_t = np.empty([T,S])\n",
    "    z_t[0, :] = mu\n",
    "\n",
    "    k_t = np.empty([T,S])\n",
    "    k_t[0, :] = k_init\n",
    "\n",
    "    for i in range(0,T-1):\n",
    "        z_t[i+1,:] = (rho*z_t[i,:] + (1-rho)*mu + eps[i,:])\n",
    "        k_t[i+1,:] = (alpha*beta*np.exp(z_t[i,:])*k_t[i,:]**alpha)\n",
    "        \n",
    "    w_t = (1-alpha)*np.exp(z_t)*k_t**alpha\n",
    "    r_t = alpha*np.exp(z_t)*k_t**(alpha-1)\n",
    "    k_t_1 = np.roll(k_t,-1,axis=0)\n",
    "    k_t_1[99,:] = alpha*beta*np.exp(z_t[99,:])*k_t[99,:]**alpha\n",
    "    c_t = r_t*k_t + w_t - k_t_1\n",
    "    \n",
    "    c_mean = c_t.mean(axis=0)\n",
    "    k_mean = k_t.mean(axis=0)\n",
    "    c_var = c_t.var(axis=0)\n",
    "    k_var = k_t.var(axis=0)\n",
    "    \n",
    "    c_k_corr = np.empty([S,1])\n",
    "    k_k1_corr = np.empty([S,1])\n",
    "    for j in range(0, S):\n",
    "        c_k_corr[j] = pearsonr(c_t[:,j], k_t[:,j])[0]\n",
    "        k_k1_corr[j] = pearsonr(k_t[:,j], k_t_1[:,j])[0]\n",
    "\n",
    "    model_moments_final = np.array([c_mean.mean(), k_mean.mean(), c_var.mean(), k_var.mean(), c_k_corr.mean(), k_k1_corr.mean()])\n",
    "    \n",
    "    return model_moments_final\n",
    "\n",
    "#print(np.random.normal(0, 0.5, [T,S]).shape)\n",
    "print(simulator(1,  1,  0.9,  0.5,  0.5, 100, 1000, np.mean(macroseries['cap_t'])))\n",
    "#print(simulator(0.5, 0.5, 0.5, 0.5, 0.5, T, S)[:,0])\n",
    "#print(simulator(0.5, 0.5, 0.5, 0.5, 0.5, T, S)[:,2])\n",
    "#print(np.random.normal(0, 0.5, [T,S]).mean())"
   ]
  },
  {
   "cell_type": "code",
   "execution_count": 8,
   "metadata": {
    "collapsed": false
   },
   "outputs": [
    {
     "name": "stdout",
     "output_type": "stream",
     "text": [
      "[  1.05213000e+07   7.47240000e+06   5.63027331e+12   2.81408024e+12\n",
      "   8.77524504e-01   8.75345627e-01]\n"
     ]
    }
   ],
   "source": [
    "def data_moments(macroseries):\n",
    "    \n",
    "    c_mean = np.mean(macroseries['c_t'])\n",
    "    k_mean = np.mean(macroseries['cap_t'])\n",
    "    c_var = np.var(macroseries['c_t'])\n",
    "    k_var = np.var(macroseries['cap_t'])\n",
    "    c_k_corr = pearsonr(macroseries['c_t'], macroseries['cap_t'])[0]\n",
    "    \n",
    "    k_t_1 = macroseries['cap_t'].shift(-1)\n",
    "    k_t_1_cut = k_t_1[0:98]\n",
    "    k_k1_corr = pearsonr(macroseries['cap_t'][0:98], k_t_1_cut)[0]\n",
    "    \n",
    "    data_moments = np.array([c_mean, k_mean, c_var, k_var, c_k_corr, k_k1_corr])\n",
    "    \n",
    "    return data_moments\n",
    "\n",
    "moms_data = data_moments(macroseries)\n",
    "print(moms_data)"
   ]
  },
  {
   "cell_type": "code",
   "execution_count": 11,
   "metadata": {
    "collapsed": false
   },
   "outputs": [],
   "source": [
    "def err_vec(mu, sigma, rho, alpha, beta, T, S, k_init, moms_data, simple):\n",
    "\n",
    "    moms_data = moms_data\n",
    "    moms_model = simulator(mu, sigma, rho, alpha, beta, T, S, k_init)\n",
    "    \n",
    "    if simple:\n",
    "        err_vec = moms_model - moms_data\n",
    "    else:\n",
    "        err_vec = (moms_model - moms_data) / moms_data\n",
    "    \n",
    "    return err_vec\n",
    "\n",
    "def criterion_SMM(params, *args):\n",
    "    \n",
    "    mu, sigma, rho, alpha, beta = params\n",
    "    W, T, S, k_init, moms_data = args\n",
    "    \n",
    "    err = err_vec(mu, sigma, rho, alpha, beta, T, S, k_init, moms_data, False)\n",
    "    crit_val = np.dot(np.dot(err.T, W), err)\n",
    "    \n",
    "    return crit_val\n",
    "\n",
    "#err_vec(0.31089501,  0.001,  0.48767414,  0.98999998,  0.77440157, T, S, moms_data, True)"
   ]
  },
  {
   "cell_type": "code",
   "execution_count": 17,
   "metadata": {
    "collapsed": false
   },
   "outputs": [
    {
     "name": "stdout",
     "output_type": "stream",
     "text": [
      "Initial mu_0= 0.193716040138 Initial sigma_0= 0.8 Initial rho_0= -0.97720787299 Initial alpha_0= 0.9 Initial beta_0= 0.510313013771\n",
      "                        fun: 3.4794021959308541\n",
      " lowest_optimization_result:       fun: 3.4794021959308541\n",
      " hess_inv: <5x5 LbfgsInvHessProduct with dtype=float64>\n",
      "      jac: array([-12531.80177021,   2972.69407659,  24185.97327658,  16731.98479053,\n",
      "         2587.00942948])\n",
      "  message: b'CONVERGENCE: REL_REDUCTION_OF_F_<=_FACTR*EPSMCH'\n",
      "     nfev: 126\n",
      "      nit: 2\n",
      "   status: 0\n",
      "  success: True\n",
      "        x: array([ 0.20137799,  0.39569335, -0.81152896,  0.98999879,  0.11453008])\n",
      "                    message: ['requested number of basinhopping iterations completed successfully']\n",
      "      minimization_failures: 4\n",
      "                       nfev: 1524\n",
      "                        nit: 10\n",
      "                          x: array([ 0.20137799,  0.39569335, -0.81152896,  0.98999879,  0.11453008])\n",
      "mu_GMM1= 0.201377994547  sig_GMM1= 0.395693349144 rho_SMM1= -0.811528963902 alpha_SMM1= 0.989998791483 beta_SMM1= 0.114530075248 Minimized Criterion= 3.47940219593\n",
      "[-0.99244318 -0.98863928 -0.91442965 -0.80130498  0.13789209  0.14072449]\n",
      "[  7.95379480e+04   8.48956953e+04   4.81890101e+11   5.59144885e+11\n",
      "   9.98494122e-01   9.98494122e-01]\n"
     ]
    }
   ],
   "source": [
    "'''\n",
    "mu_init = 0.5\n",
    "sig_init = 0.5\n",
    "rho_init = 0.5\n",
    "alpha_init = 0.5\n",
    "beta_init = 0.5\n",
    "'''\n",
    "\n",
    "mu_init= 0.193716040138 \n",
    "sig_init= 0.8\n",
    "rho_init= -0.97720787299\n",
    "alpha_init= 0.9 \n",
    "beta_init= 0.510313013771\n",
    "\n",
    "print('Initial mu_0=', mu_init, 'Initial sigma_0=', sig_init, 'Initial rho_0=', rho_init, \n",
    "      'Initial alpha_0=', alpha_init, 'Initial beta_0=', beta_init)\n",
    "params_init = np.array([mu_init, sig_init, rho_init, alpha_init, beta_init])\n",
    "\n",
    "T = 100\n",
    "S = 1000\n",
    "k_init = np.mean(macroseries['cap_t'])\n",
    "W_hat = np.eye(6)\n",
    "smm_args = (W_hat, T, S, k_init, moms_data)\n",
    "\n",
    "#results = opt.minimize(criterion, params_init, args=(gmm_args), method='L-BFGS-B', bounds=((None, None), (1e-10, None)))\n",
    "minimizer_kwargs = dict(method=\"L-BFGS-B\", \n",
    "                       bounds= ((-0.5, 1), (0.001, 1), (-0.99, 0.99), (0.01, 0.99), (0.01, 0.99)),\n",
    "                       args = smm_args,\n",
    "                       options ={'eps': 1e-8})\n",
    "results = opt.basinhopping(criterion_SMM, params_init, minimizer_kwargs= minimizer_kwargs, niter = 10, stepsize = 1)\n",
    "print(results)\n",
    "mu_SMM1, sig_SMM1, rho_SMM1, alpha_SMM1, beta_SMM1 = results.x\n",
    "max_crit = results.fun\n",
    "#max_crit = criterion(np.array([mu_GMM1,sig_GMM1]),([income_per_thou, W_hat]))\n",
    "print('mu_GMM1=', mu_SMM1, ' sig_GMM1=', sig_SMM1, 'rho_SMM1=', rho_SMM1, 'alpha_SMM1=', alpha_SMM1, \n",
    "      'beta_SMM1=', beta_SMM1, 'Minimized Criterion=', max_crit)\n",
    "#print(np.array(model_moments(mu_GMM1,sig_GMM1,bins)))\n",
    "#print(np.array(model_moments(mu_GMM1,sig_GMM1,bins)).sum())\n",
    "print(err_vec(mu_SMM1, sig_SMM1, rho_SMM1, alpha_SMM1, beta_SMM1, T, S, k_init, moms_data, False))\n",
    "print(simulator(mu_SMM1, sig_SMM1, rho_SMM1, alpha_SMM1, beta_SMM1, T, S, k_init))"
   ]
  },
  {
   "cell_type": "code",
   "execution_count": 33,
   "metadata": {
    "collapsed": false
   },
   "outputs": [
    {
     "name": "stdout",
     "output_type": "stream",
     "text": [
      "[-0.98318503 -0.98976327 -0.48142723 -0.80355518  0.13929541  0.1421313 ]\n",
      "[  1.76989318e+05   7.64937144e+04   2.92005598e+12   5.52811408e+11\n",
      "   9.99708100e-01   9.99708100e-01]\n"
     ]
    }
   ],
   "source": [
    "print(err_vec(mu_SMM1, sig_SMM1, rho_SMM1, alpha_SMM1, beta_SMM1, T, S, moms_data, False))\n",
    "print(simulator(mu_SMM1, sig_SMM1, rho_SMM1, alpha_SMM1, beta_SMM1, T, S))"
   ]
  },
  {
   "cell_type": "code",
   "execution_count": null,
   "metadata": {
    "collapsed": true
   },
   "outputs": [],
   "source": []
  }
 ],
 "metadata": {
  "kernelspec": {
   "display_name": "Python 3",
   "language": "python",
   "name": "python3"
  },
  "language_info": {
   "codemirror_mode": {
    "name": "ipython",
    "version": 3
   },
   "file_extension": ".py",
   "mimetype": "text/x-python",
   "name": "python",
   "nbconvert_exporter": "python",
   "pygments_lexer": "ipython3",
   "version": "3.5.1"
  }
 },
 "nbformat": 4,
 "nbformat_minor": 0
}
