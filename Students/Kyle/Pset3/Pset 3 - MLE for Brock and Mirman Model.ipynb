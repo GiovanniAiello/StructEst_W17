{
 "cells": [
  {
   "cell_type": "markdown",
   "metadata": {},
   "source": [
    "Question 1 Part (a)"
   ]
  },
  {
   "cell_type": "code",
   "execution_count": 7,
   "metadata": {
    "collapsed": false
   },
   "outputs": [
    {
     "name": "stdout",
     "output_type": "stream",
     "text": [
      "Initial alpha_0= 0.5 Initial rho_0= 0.5 Initial sigma_0= 1 Initial mu_0= 1\n",
      "      fun: 101.36670716487531\n",
      " hess_inv: <4x4 LbfgsInvHessProduct with dtype=float64>\n",
      "      jac: array([-12.17364201,   0.41279264,  86.13854732,  -2.8017638 ])\n",
      "  message: b'CONVERGENCE: REL_REDUCTION_OF_F_<=_FACTR*EPSMCH'\n",
      "     nfev: 35\n",
      "      nit: 5\n",
      "   status: 0\n",
      "  success: True\n",
      "        x: array([ 0.91180278,  1.        ,  1.0464947 ,  1.03857989])\n",
      "alpha_MLE= 0.911802782775  rho_MLE= 0.9999999999 sigma_MLE= 1.04649469512 mu_MLE 1.03857989199 log Likelihood= -101.36670716487531\n",
      "Inverse Hessian= [[ 1.16777317 -0.15581764 -1.65272738 -0.20392833]\n",
      " [-0.15581764  0.2232892  -0.4765123  -0.07304319]\n",
      " [-1.65272738 -0.4765123   4.76485621  0.50908355]\n",
      " [-0.20392833 -0.07304319  0.50908355  1.07060105]]\n"
     ]
    }
   ],
   "source": [
    "import numpy as np\n",
    "import scipy.stats as sts\n",
    "import statistics \n",
    "import pandas as pd\n",
    "\n",
    "# Load in and display the data\n",
    "#macroseries = np.loadtxt('MacroSeries.txt', dtype={'names': ('c_t', 'k_t', 'w_t', 'r_t'), 'formats': ('|S15', '|S15', '|S15', '|S15')}, delimiter = ',')\n",
    "macroseries = pd.read_csv('Macroseries.csv', header=0)\n",
    "#print(macroseries)\n",
    "#macroseries.shift(periods=1)\n",
    "#print(macroseries['k_t'])\n",
    "\n",
    "\n",
    "beta = 0.99\n",
    "\n",
    "def eq_3(w_t, k_t, alpha):\n",
    "\n",
    "    z_t = np.log(w_t/((1-alpha)*k_t**alpha))\n",
    "\n",
    "    return z_t\n",
    "\n",
    "def norm_pdf_z(z_t, rho, sigma, mu):\n",
    "\n",
    "    z_t_1 = z_t.shift(1)\n",
    "    z_t_1[0] = mu\n",
    "    pdf_vals    = (1/(sigma * np.sqrt(2 * np.pi)) *\n",
    "                    np.exp( - (z_t - rho*z_t_1 - (1-rho)*mu)**2 / (2 * sigma**2)))\n",
    "    \n",
    "    return pdf_vals\n",
    "\n",
    "def log_lik_norm(z_t, rho, sigma, mu):\n",
    "    \n",
    "    pdf_vals = norm_pdf_z(z_t, rho, sigma, mu)\n",
    "    ln_pdf_vals = np.log(pdf_vals)\n",
    "    log_lik_val = ln_pdf_vals.sum()\n",
    "    \n",
    "    return log_lik_val\n",
    "\n",
    "def crit(params, *args):\n",
    "    alpha, rho, sigma, mu = params\n",
    "    w_t, k_t = args\n",
    "    z_t = eq_3(w_t, k_t, alpha)\n",
    "    log_lik_val = log_lik_norm(z_t, rho, sigma, mu)\n",
    "    neg_log_lik_val = -log_lik_val\n",
    "    \n",
    "    return neg_log_lik_val\n",
    "\n",
    "# Set up initial guesses\n",
    "alpha_0 = 0.5\n",
    "rho_0 = 0.5\n",
    "sigma_0 = 1\n",
    "mu_0 = 1\n",
    "\n",
    "print('Initial alpha_0=', alpha_0, 'Initial rho_0=', rho_0, 'Initial sigma_0=', sigma_0, 'Initial mu_0=', mu_0)\n",
    "\n",
    "import scipy.optimize as opt\n",
    "\n",
    "mle_args = (macroseries['w_t'], macroseries['cap_t'])\n",
    "params_init = np.array([alpha_0,rho_0,sigma_0,mu_0])\n",
    "results = opt.minimize(crit, params_init, args=(mle_args), bounds = ((1e-10, 1-1e-10), (-1+1e-10, 1-1e-10), (1e-10, None), (1e-10, None)), method = 'L-BFGS-B', options ={'ftol': 1e-10})\n",
    "print(results)\n",
    "\n",
    "alpha_MLE, rho_MLE, sigma_MLE, mu_MLE = results.x\n",
    "inv_hess = results.hess_inv*np.matrix([[1,0,0,0],[0,1,0,0],[0,0,1,0],[0,0,0,1]])\n",
    "max_log_lik = log_lik_norm(eq_3(macroseries['w_t'], macroseries['cap_t'], alpha_MLE),rho_MLE,sigma_MLE,mu_MLE)\n",
    "print('alpha_MLE=', alpha_MLE, ' rho_MLE=', rho_MLE, 'sigma_MLE=', sigma_MLE, 'mu_MLE', mu_MLE, 'log Likelihood=', max_log_lik)\n",
    "print('Inverse Hessian=', inv_hess)"
   ]
  },
  {
   "cell_type": "markdown",
   "metadata": {},
   "source": [
    "Question 1 Part (b)"
   ]
  },
  {
   "cell_type": "code",
   "execution_count": 8,
   "metadata": {
    "collapsed": false
   },
   "outputs": [
    {
     "name": "stdout",
     "output_type": "stream",
     "text": [
      "Initial alpha_0= 0.5 Initial rho_0= 0.5 Initial sigma_0= 1 Initial mu_0= 1\n",
      "      fun: 80.34156413730658\n",
      " hess_inv: <4x4 LbfgsInvHessProduct with dtype=float64>\n",
      "      jac: array([  75.03204387,  -19.02322566,  108.59332633,    4.4036895 ])\n",
      "  message: b'CONVERGENCE: REL_REDUCTION_OF_F_<=_FACTR*EPSMCH'\n",
      "     nfev: 35\n",
      "      nit: 5\n",
      "   status: 0\n",
      "  success: True\n",
      "        x: array([ 1.        ,  0.84963564,  0.86364662,  1.01055912])\n",
      "alpha_MLE= 0.9999999999  rho_MLE= 0.849635638864 sigma_MLE= 0.863646623473 mu_MLE 1.01055911652 log Likelihood= -80.34156413730658\n",
      "Inverse Hessian= [[  0.60334647   1.06964833  -3.33570027  -0.49556181]\n",
      " [  1.06964833   2.51429816  -6.36351169  -0.83113548]\n",
      " [ -3.33570027  -6.36351169  18.84081891   2.46169128]\n",
      " [ -0.49556181  -0.83113548   2.46169128   1.33782384]]\n"
     ]
    }
   ],
   "source": [
    "def eq_4(r_t, k_t, alpha):\n",
    "\n",
    "    z_t = np.log(r_t/(alpha*k_t**(alpha-1)))\n",
    "\n",
    "    return z_t\n",
    "\n",
    "def crit_b(params, *args):\n",
    "    alpha, rho, sigma, mu = params\n",
    "    r_t, k_t = args\n",
    "    z_t = eq_4(r_t, k_t, alpha)\n",
    "    log_lik_val = log_lik_norm(z_t, rho, sigma, mu)\n",
    "    neg_log_lik_val = -log_lik_val\n",
    "    \n",
    "    return neg_log_lik_val\n",
    "\n",
    "# Set up initial guesses\n",
    "alpha_0_b = 0.5\n",
    "rho_0_b = 0.5\n",
    "sigma_0_b = 1\n",
    "mu_0_b = 1\n",
    "\n",
    "print('Initial alpha_0=', alpha_0_b, 'Initial rho_0=', rho_0_b, 'Initial sigma_0=', sigma_0_b, 'Initial mu_0=', mu_0_b)\n",
    "\n",
    "mle_args_b = (macroseries['r_t'], macroseries['cap_t'])\n",
    "params_init_b = np.array([alpha_0_b,rho_0_b,sigma_0_b,mu_0_b])\n",
    "results_b = opt.minimize(crit_b, params_init_b, args=(mle_args_b), bounds = ((1e-10, 1-1e-10), (-1+1e-10, 1-1e-10), (1e-10, None), (1e-10, None)), method = 'L-BFGS-B', options ={'ftol': 1e-10})\n",
    "print(results_b)\n",
    "\n",
    "alpha_MLE_b, rho_MLE_b, sigma_MLE_b, mu_MLE_b = results_b.x\n",
    "inv_hess_b = results_b.hess_inv*np.matrix([[1,0,0,0],[0,1,0,0],[0,0,1,0],[0,0,0,1]])\n",
    "max_log_lik_b = log_lik_norm(eq_4(macroseries['r_t'], macroseries['cap_t'], alpha_MLE_b),rho_MLE_b,sigma_MLE_b,mu_MLE_b)\n",
    "print('alpha_MLE=', alpha_MLE_b, ' rho_MLE=', rho_MLE_b, 'sigma_MLE=', sigma_MLE_b, 'mu_MLE', mu_MLE_b, 'log Likelihood=', max_log_lik_b)\n",
    "print('Inverse Hessian=', inv_hess_b)"
   ]
  },
  {
   "cell_type": "markdown",
   "metadata": {},
   "source": [
    "Question 1 Part (c)"
   ]
  },
  {
   "cell_type": "code",
   "execution_count": 9,
   "metadata": {
    "collapsed": false
   },
   "outputs": [
    {
     "name": "stdout",
     "output_type": "stream",
     "text": [
      "z*= 1.48852998439\n",
      "Probability that the interest rate this period will be greater than 1: 0.9999999999999998\n"
     ]
    }
   ],
   "source": [
    "z_star = eq_4(1,7500000,alpha_MLE)\n",
    "print('z*=', z_star)\n",
    "\n",
    "def norm_pdf_z_c(z_t, rho, sigma, mu):\n",
    "\n",
    "    pdf_vals    = (1/(sigma * np.sqrt(2 * np.pi)) *\n",
    "                    np.exp( - (z_t - rho*10 - (1-rho)*mu)**2 / (2 * sigma**2)))\n",
    "    \n",
    "    return pdf_vals\n",
    "\n",
    "import scipy.integrate as integrate\n",
    "\n",
    "prob_r_1 = 1 - integrate.quad(lambda x: norm_pdf_z_c(x, rho_MLE, sigma_MLE, mu_MLE), 0, z_star)[0]\n",
    "print('Probability that the interest rate this period will be greater than 1:', prob_r_1)"
   ]
  },
  {
   "cell_type": "code",
   "execution_count": null,
   "metadata": {
    "collapsed": true
   },
   "outputs": [],
   "source": []
  }
 ],
 "metadata": {
  "kernelspec": {
   "display_name": "Python 3",
   "language": "python",
   "name": "python3"
  },
  "language_info": {
   "codemirror_mode": {
    "name": "ipython",
    "version": 3
   },
   "file_extension": ".py",
   "mimetype": "text/x-python",
   "name": "python",
   "nbconvert_exporter": "python",
   "pygments_lexer": "ipython3",
   "version": "3.5.1"
  }
 },
 "nbformat": 4,
 "nbformat_minor": 0
}
