{
 "cells": [
  {
   "cell_type": "markdown",
   "metadata": {},
   "source": [
    "Question 1 Part (a)"
   ]
  },
  {
   "cell_type": "code",
   "execution_count": 56,
   "metadata": {
    "collapsed": false
   },
   "outputs": [
    {
     "name": "stdout",
     "output_type": "stream",
     "text": [
      "Initial alpha_0= 0.5 Initial rho_0= 0.5 Initial sigma_0= 1 Initial mu_0= 1\n",
      "      fun: 85.64331517837917\n",
      " hess_inv: <4x4 LbfgsInvHessProduct with dtype=float64>\n",
      "      jac: array([  84.77693143,  463.58822487,   60.8031371 ,   99.98203438])\n",
      "  message: b'CONVERGENCE: REL_REDUCTION_OF_F_<=_FACTR*EPSMCH'\n",
      "     nfev: 45\n",
      "      nit: 5\n",
      "   status: 0\n",
      "  success: True\n",
      "        x: array([ 0.84608684,  0.9088313 ,  0.72637296,  0.96116244])\n",
      "alpha_MLE= 0.846086841185  rho_MLE= 0.90883130443 sigma_MLE= 0.726372963996 mu_MLE 0.961162436921 log Likelihood= -85.64331517837917\n",
      "Inverse Hessian= [[  3.05790874  -0.13766192  -7.71041112  -2.84578115]\n",
      " [ -0.13766192   0.0699859    0.21411023  -0.1720417 ]\n",
      " [ -7.71041112   0.21411023  19.77958455   7.81248462]\n",
      " [ -2.84578115  -0.1720417    7.81248462   4.06514147]]\n"
     ]
    }
   ],
   "source": [
    "import numpy as np\n",
    "import scipy.stats as sts\n",
    "import statistics \n",
    "import pandas as pd\n",
    "\n",
    "# Load in and display the data\n",
    "#macroseries = np.loadtxt('MacroSeries.txt', dtype={'names': ('c_t', 'k_t', 'w_t', 'r_t'), 'formats': ('|S15', '|S15', '|S15', '|S15')}, delimiter = ',')\n",
    "macroseries = pd.read_csv('Macroseries.csv', header=0)\n",
    "#print(macroseries)\n",
    "#macroseries.shift(periods=1)\n",
    "#print(macroseries['k_t'])\n",
    "\n",
    "\n",
    "beta = 0.99\n",
    "\n",
    "def eq_3(w_t, k_t, alpha):\n",
    "\n",
    "    z_t = np.log(w_t/((1-alpha)*k_t**alpha))\n",
    "\n",
    "    return z_t\n",
    "\n",
    "def norm_pdf_z(z_t, rho, sigma, mu):\n",
    "\n",
    "    z_t_1 = mu + z_t[0:98]\n",
    "    pdf_vals    = (1/(sigma * np.sqrt(2 * np.pi)) *\n",
    "                    np.exp( - (z_t - rho*z_t_1 - (1-rho)*mu)**2 / (2 * sigma**2)))\n",
    "    \n",
    "    return pdf_vals\n",
    "\n",
    "def log_lik_norm(z_t, rho, sigma, mu):\n",
    "    \n",
    "    pdf_vals = norm_pdf_z(z_t, rho, sigma, mu)\n",
    "    ln_pdf_vals = np.log(pdf_vals)\n",
    "    log_lik_val = ln_pdf_vals.sum()\n",
    "    \n",
    "    return log_lik_val\n",
    "\n",
    "def crit(params, *args):\n",
    "    alpha, rho, sigma, mu = params\n",
    "    w_t, k_t = args\n",
    "    z_t = eq_3(w_t, k_t, alpha)\n",
    "    log_lik_val = log_lik_norm(z_t, rho, sigma, mu)\n",
    "    neg_log_lik_val = -log_lik_val\n",
    "    \n",
    "    return neg_log_lik_val\n",
    "\n",
    "# Set up initial guesses\n",
    "alpha_0 = 0.5\n",
    "rho_0 = 0.5\n",
    "sigma_0 = 1\n",
    "mu_0 = 1\n",
    "\n",
    "print('Initial alpha_0=', alpha_0, 'Initial rho_0=', rho_0, 'Initial sigma_0=', sigma_0, 'Initial mu_0=', mu_0)\n",
    "\n",
    "import scipy.optimize as opt\n",
    "\n",
    "mle_args = (macroseries['w_t'], macroseries['cap_t'])\n",
    "params_init = np.array([alpha_0,rho_0,sigma_0,mu_0])\n",
    "results = opt.minimize(crit, params_init, args=(mle_args), bounds = ((1e-10, 1-1e-10), (-1+1e-10, 1-1e-10), (1e-10, None), (1e-10, None)), method = 'L-BFGS-B', options ={'ftol': 1e-10})\n",
    "print(results)\n",
    "\n",
    "alpha_MLE, rho_MLE, sigma_MLE, mu_MLE = results.x\n",
    "inv_hess = results.hess_inv*np.matrix([[1,0,0,0],[0,1,0,0],[0,0,1,0],[0,0,0,1]])\n",
    "max_log_lik = log_lik_norm(eq_3(macroseries['w_t'], macroseries['cap_t'], alpha_MLE),rho_MLE,sigma_MLE,mu_MLE)\n",
    "print('alpha_MLE=', alpha_MLE, ' rho_MLE=', rho_MLE, 'sigma_MLE=', sigma_MLE, 'mu_MLE', mu_MLE, 'log Likelihood=', max_log_lik)\n",
    "print('Inverse Hessian=', inv_hess)"
   ]
  },
  {
   "cell_type": "markdown",
   "metadata": {},
   "source": [
    "Question 1 Part (b)"
   ]
  },
  {
   "cell_type": "code",
   "execution_count": 57,
   "metadata": {
    "collapsed": false
   },
   "outputs": [
    {
     "name": "stdout",
     "output_type": "stream",
     "text": [
      "Initial alpha_0= 0.5 Initial rho_0= 0.5 Initial sigma_0= 1 Initial mu_0= 1\n",
      "      fun: 14.479294972552593\n",
      " hess_inv: <4x4 LbfgsInvHessProduct with dtype=float64>\n",
      "      jac: array([  -7.80970026,   -8.52887467,  211.66600686,   -2.1006171 ])\n",
      "  message: b'CONVERGENCE: REL_REDUCTION_OF_F_<=_FACTR*EPSMCH'\n",
      "     nfev: 65\n",
      "      nit: 7\n",
      "   status: 0\n",
      "  success: True\n",
      "        x: array([ 0.78889256,  0.78464605,  0.4619325 ,  0.76746017])\n",
      "alpha_MLE= 0.78889255631  rho_MLE= 0.784646049212 sigma_MLE= 0.461932501198 mu_MLE 0.767460172386 log Likelihood= -14.479294972552593\n",
      "Inverse Hessian= [[ 0.51725443 -0.48065109  0.17122068  0.04072481]\n",
      " [-0.48065109  0.52309855 -0.01153692 -0.06440323]\n",
      " [ 0.17122068 -0.01153692  2.6110533   2.58026077]\n",
      " [ 0.04072481 -0.06440323  2.58026077  3.03446242]]\n"
     ]
    }
   ],
   "source": [
    "def eq_4(r_t, k_t, alpha):\n",
    "\n",
    "    z_t = np.log(r_t/(alpha*k_t**(alpha-1)))\n",
    "\n",
    "    return z_t\n",
    "\n",
    "def crit_b(params, *args):\n",
    "    alpha, rho, sigma, mu = params\n",
    "    r_t, k_t = args\n",
    "    z_t = eq_4(r_t, k_t, alpha)\n",
    "    log_lik_val = log_lik_norm(z_t, rho, sigma, mu)\n",
    "    neg_log_lik_val = -log_lik_val\n",
    "    \n",
    "    return neg_log_lik_val\n",
    "\n",
    "# Set up initial guesses\n",
    "alpha_0_b = 0.5\n",
    "rho_0_b = 0.5\n",
    "sigma_0_b = 1\n",
    "mu_0_b = 1\n",
    "\n",
    "print('Initial alpha_0=', alpha_0_b, 'Initial rho_0=', rho_0_b, 'Initial sigma_0=', sigma_0_b, 'Initial mu_0=', mu_0_b)\n",
    "\n",
    "mle_args_b = (macroseries['r_t'], macroseries['cap_t'])\n",
    "params_init_b = np.array([alpha_0_b,rho_0_b,sigma_0_b,mu_0_b])\n",
    "results_b = opt.minimize(crit_b, params_init_b, args=(mle_args_b), bounds = ((1e-10, 1-1e-10), (-1+1e-10, 1-1e-10), (1e-10, None), (1e-10, None)), method = 'L-BFGS-B', options ={'ftol': 1e-10})\n",
    "print(results_b)\n",
    "\n",
    "alpha_MLE_b, rho_MLE_b, sigma_MLE_b, mu_MLE_b = results_b.x\n",
    "inv_hess_b = results_b.hess_inv*np.matrix([[1,0,0,0],[0,1,0,0],[0,0,1,0],[0,0,0,1]])\n",
    "max_log_lik_b = log_lik_norm(eq_4(macroseries['r_t'], macroseries['cap_t'], alpha_MLE_b),rho_MLE_b,sigma_MLE_b,mu_MLE_b)\n",
    "print('alpha_MLE=', alpha_MLE_b, ' rho_MLE=', rho_MLE_b, 'sigma_MLE=', sigma_MLE_b, 'mu_MLE', mu_MLE_b, 'log Likelihood=', max_log_lik_b)\n",
    "print('Inverse Hessian=', inv_hess_b)"
   ]
  },
  {
   "cell_type": "markdown",
   "metadata": {},
   "source": [
    "Question 1 Part (c)"
   ]
  },
  {
   "cell_type": "code",
   "execution_count": 64,
   "metadata": {
    "collapsed": false
   },
   "outputs": [
    {
     "name": "stdout",
     "output_type": "stream",
     "text": [
      "z*= 2.60364223471\n",
      "Probability that the interest rate this period will be greater than 1: 1.0\n"
     ]
    }
   ],
   "source": [
    "z_star = eq_4(1,7500000,alpha_MLE)\n",
    "print('z*=', z_star)\n",
    "\n",
    "def norm_pdf_z_c(z_t, rho, sigma, mu):\n",
    "\n",
    "    pdf_vals    = (1/(sigma * np.sqrt(2 * np.pi)) *\n",
    "                    np.exp( - (z_t - rho*10 - (1-rho)*mu)**2 / (2 * sigma**2)))\n",
    "    \n",
    "    return pdf_vals\n",
    "\n",
    "import scipy.integrate as integrate\n",
    "\n",
    "prob_r_1 = 1 - integrate.quad(lambda x: norm_pdf_z_c(x, rho_MLE, sigma_MLE, mu_MLE), 0, z_star)[0]\n",
    "print('Probability that the interest rate this period will be greater than 1:', prob_r_1)"
   ]
  },
  {
   "cell_type": "code",
   "execution_count": null,
   "metadata": {
    "collapsed": true
   },
   "outputs": [],
   "source": []
  }
 ],
 "metadata": {
  "kernelspec": {
   "display_name": "Python 3",
   "language": "python",
   "name": "python3"
  },
  "language_info": {
   "codemirror_mode": {
    "name": "ipython",
    "version": 3
   },
   "file_extension": ".py",
   "mimetype": "text/x-python",
   "name": "python",
   "nbconvert_exporter": "python",
   "pygments_lexer": "ipython3",
   "version": "3.5.1"
  }
 },
 "nbformat": 4,
 "nbformat_minor": 0
}
