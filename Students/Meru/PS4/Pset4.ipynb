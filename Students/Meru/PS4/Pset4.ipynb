{
 "cells": [
  {
   "cell_type": "markdown",
   "metadata": {},
   "source": [
    "## Pset 4: Matching the US income distribution by GMM\n",
    "\n",
    "In this problem set, you will use the tab-delimited data file usincmoms.txt, which contains the 42 moments listed in Table 1 along with the midpoint of each bin. The first column of the data file gives the percent of the population in each income bin (the third column of Table 1). The second column in the data file has the midpoint of each income bin. So the midpoint of the first income bin of all household incomes less than \\$5,000 is \\$2,500."
   ]
  },
  {
   "cell_type": "code",
   "execution_count": null,
   "metadata": {
    "collapsed": false
   },
   "outputs": [],
   "source": [
    "# Load Modules\n",
    "import numpy as np\n",
    "import scipy.stats as sts\n",
    "import pandas as pd\n",
    "import matplotlib.pyplot as plt\n",
    "import scipy.optimize as opt\n",
    "import scipy.special as spc\n",
    "import scipy.integrate as integrate\n",
    "import distributions as dst\n",
    "import numpy.linalg as lin"
   ]
  },
  {
   "cell_type": "code",
   "execution_count": null,
   "metadata": {
    "collapsed": false,
    "scrolled": false
   },
   "outputs": [],
   "source": [
    "usincmoms = pd.read_table(\"usincmoms.txt\", header=None, names = [\"PercPop\",\"IncomeMidpoint\"])"
   ]
  },
  {
   "cell_type": "markdown",
   "metadata": {},
   "source": [
    "(a) Plot the histogram implied by the moments in the tab-delimited text file usincmoms.txt. The centers of each bin are in the second column of the data fie usincmoms.txt. List the dollar amounts on the x-axis as thousands of dollars. The bin cutoffs are given in Table 1. Even though the top bin is all incomes of \\$250,000 and up, only graph the histogram up to the maximum income of \\$350,000. In summary, your histogram should have 42 bars. The first 40 bars for the lowest income bins should be the same width. The last two bars should be different widths from each other and from the rest of the bars. Because the 41st bar is 10 times bigger than the first 40 bars, divide its height by 10. Because the 42nd bar is 20 times bigger than the first 40 bars, divide its height by 20. This is analogous to dividing the last two bars into 10 and 20 bars respectively, and spreading frequency of each evenly among its divisions."
   ]
  },
  {
   "cell_type": "code",
   "execution_count": null,
   "metadata": {
    "collapsed": false,
    "scrolled": true
   },
   "outputs": [],
   "source": [
    "# Create first Histogram\n",
    "# This command is specifically for Jupyter Notebook\n",
    "%matplotlib notebook\n",
    "\n",
    "# Construct sequence of bins\n",
    "bins = list(((usincmoms[\"IncomeMidpoint\"].shift() + usincmoms[\"IncomeMidpoint\"])/2000))\n",
    "bins[0] = 0\n",
    "bins[40] = 200.0\n",
    "bins[41] = 250.0\n",
    "bins.append(350.0)\n",
    "\n",
    "# Construct data values\n",
    "datavals = usincmoms[\"IncomeMidpoint\"]/1000\n",
    "\n",
    "# Construct weights\n",
    "moms_data = list(usincmoms[\"PercPop\"])\n",
    "moms_data[40] = moms_data[40]/10\n",
    "moms_data[41] = moms_data[41]/20\n",
    "moms_data = np.array(moms_data)\n",
    "\n",
    "# Plot Histogram\n",
    "count, bins, ignored = plt.hist(datavals, bins=bins, weights=moms_data)\n",
    "plt.title('Distribution of Household Money Income by Income Class', fontsize=15)\n",
    "plt.xlabel('US Dollars (Thousands)')\n",
    "plt.ylabel('Percent of Households')"
   ]
  },
  {
   "cell_type": "markdown",
   "metadata": {},
   "source": [
    "(b) Using GMM, fit the lognormal $LN(x;\\mu,\\sigma)$ distribution defined in the MLE notebook to the distribution of household income data using the moments from the data file. Make sure to try various initial guesses. (HINT: $\\mu_0 = \\ln(avg.inc)$ might be good.) For your weighting matrix $W$, use a $42 \\times 42$ diagonal matrix in which the diagonal elements are the percentages from the data file. This will put the most weight on the moments with the largest percent of the population. Report your estimated values for $\\hat{\\mu}$ and $\\hat{\\sigma}$, as well as the value of the minimized criterion function $e(x|\\hat{\\theta})^T W e(x|\\hat{\\theta})$. Plot the histogram from part (a) overlayed with a line represeing the implied histogram from your estimated lognormal (LN) distribution. Each point on the line is the midpoint of the bin and the implied height of the bin. Do not forget to divide the values for your last two moments by 10 and 20 respectively, so that they match up with the histogram."
   ]
  },
  {
   "cell_type": "code",
   "execution_count": null,
   "metadata": {
    "collapsed": false
   },
   "outputs": [],
   "source": [
    "def model_moments(mu, sigma, bins):\n",
    "    \n",
    "    xfx = lambda x: dst.log_norm_pdf(x,mu,sigma)\n",
    "        \n",
    "    model_moments = []\n",
    "    for i in range(1,np.prod(bins.shape)):\n",
    "        model_moments.append(integrate.quad(xfx,bins[i-1],bins[i])[0])\n",
    "        \n",
    "    return model_moments\n",
    "\n",
    "def err_vec(mu, sigma, bins, moms_data):\n",
    "    moms_model = model_moments(mu, sigma, bins)\n",
    "    err_vec = []\n",
    "    for i, item in enumerate(moms_data):\n",
    "        err_vec.append((moms_model[i] - item)/item)\n",
    "    \n",
    "    return np.array(err_vec)\n",
    "\n",
    "def criterion(params, *args):\n",
    "    mu, sigma = params\n",
    "    bins, moms_data, W = args\n",
    "    err = err_vec(mu, sigma, bins, moms_data)\n",
    "    crit_val = np.dot(np.dot(err.T, W), err) \n",
    "    \n",
    "    return crit_val\n",
    "\n",
    "# Some checks\n",
    "\n",
    "#model_moments(20,10,bins)\n",
    "#err_vec(3.9,10,list(bins),moms_data)"
   ]
  },
  {
   "cell_type": "code",
   "execution_count": null,
   "metadata": {
    "collapsed": false
   },
   "outputs": [],
   "source": [
    "# Run GMM Estimation\n",
    "mu_init = 3.9\n",
    "sig_init = 10\n",
    "params_init = np.array([mu_init, sig_init])\n",
    "\n",
    "bins_input = list(bins)\n",
    "bins_input = np.array(bins_input)\n",
    "bins_input[0] = 1e-8\n",
    "W_hat = np.diag(moms_data,0)\n",
    "gmm_args = (bins_input, np.array(moms_data), W_hat)\n",
    "results = opt.minimize(criterion, params_init, args=(gmm_args),\n",
    "                       method='L-BFGS-B', bounds=((None, None), (1e-10, None)))\n",
    "mu_GMM1, sig_GMM1 = results.x\n",
    "print('mu_GMM1=', mu_GMM1, ' sig_GMM1=', sig_GMM1)\n",
    "results"
   ]
  },
  {
   "cell_type": "code",
   "execution_count": null,
   "metadata": {
    "collapsed": false,
    "scrolled": true
   },
   "outputs": [],
   "source": [
    "#print(moms_data)\n",
    "#print(np.array(model_moments(mu_GMM1, sig_GMM1, bins)))\n",
    "#print(err_vec(mu_GMM1, sig_GMM1,bins,moms_data))\n",
    "#errGMM1 = err_vec(mu_GMM1, sig_GMM1,bins,moms_data)\n",
    "#print(np.dot(np.dot(errGMM1.T, W_hat), errGMM1))\n",
    "#model_moments(mu_GMM1,sig_GMM1,bins)"
   ]
  },
  {
   "cell_type": "code",
   "execution_count": null,
   "metadata": {
    "collapsed": false
   },
   "outputs": [],
   "source": [
    "%matplotlib notebook \n",
    "# Plot Histogram\n",
    "plt.hist(datavals, bins=bins, weights=moms_data)\n",
    "\n",
    "# Plot the MLE estimated distribution\n",
    "dist_pts = np.linspace(0, 350, 350)\n",
    "#plt.plot(dist_pts, dst.log_norm_pdf(dist_pts,mu_GMM1,sig_GMM1), linewidth=2, color='r', label='GMM Fit')\n",
    "for_plot = model_moments(mu_GMM1,sig_GMM1,bins)\n",
    "for_plot[40] = for_plot[40]/10\n",
    "for_plot[41] = for_plot[41]/20\n",
    "\n",
    "plt.plot(datavals, for_plot, linewidth=2, color='r', label='GMM Fit - Log Normal')\n",
    "\n",
    "plt.title('Distribution of Household Money Income by Income Class', fontsize=15)\n",
    "plt.xlabel('US Dollars (Thousands)')\n",
    "plt.ylabel('Percent of Households')\n",
    "plt.legend(loc='upper right')"
   ]
  },
  {
   "cell_type": "markdown",
   "metadata": {},
   "source": [
    "(c) Using GMM, fit the gamma $GA(x;\\alpha,\\beta)$ distribution defined in the MLE notebook to the distribution of household income data using the moments from the data file. Use $\\alpha_0 = 3$ and $\\beta_0 = 20$ as your initial guess. Report your estimated values for $\\hat{\\alpha}$ and $\\hat{\\beta}$ as well ass the value of the minimized criterion function $e(x,\\hat{\\theta})$. Use the same weighting matrix as in part (b). Plot the histogram from part (a) overlayed with a line representing the implied histogram from your estimated gamma (GA) distribution. Do not forget to divide the values for your last two moments by 10 and 20, respectively, so that they match up with the histogram."
   ]
  },
  {
   "cell_type": "code",
   "execution_count": null,
   "metadata": {
    "collapsed": true
   },
   "outputs": [],
   "source": [
    "def model_moments2(alpha, beta, bins):\n",
    "    \n",
    "    xfx = lambda x: dst.gamma_pdf(x,alpha,beta)\n",
    "        \n",
    "    model_moments = []\n",
    "    for i in range(1,np.prod(bins.shape)):\n",
    "        model_moments.append(integrate.quad(xfx,bins[i-1],bins[i])[0])\n",
    "        \n",
    "    return model_moments\n",
    "\n",
    "def err_vec2(alpha, beta, bins, moms_data):\n",
    "    moms_model = model_moments2(alpha, beta, bins)\n",
    "    err_vec = []\n",
    "    for i, item in enumerate(moms_data):\n",
    "        err_vec.append((moms_model[i] - item)/item)\n",
    "    \n",
    "    return np.array(err_vec)\n",
    "\n",
    "def criterion2(params, *args):\n",
    "    alpha, beta = params\n",
    "    bins, moms_data, W = args\n",
    "    err = err_vec2(alpha, beta, bins, moms_data)\n",
    "    crit_val = np.dot(np.dot(err.T, W), err) \n",
    "    \n",
    "    return crit_val\n",
    "\n",
    "# Some checks\n",
    "\n",
    "#model_moments(20,10,bins)\n",
    "#err_vec(3.9,10,list(bins),moms_data)"
   ]
  },
  {
   "cell_type": "code",
   "execution_count": null,
   "metadata": {
    "collapsed": false
   },
   "outputs": [],
   "source": [
    "# Run GMM Estimation\n",
    "alpha_init = 3\n",
    "beta_init = 20\n",
    "params_init = np.array([alpha_init, beta_init])\n",
    "\n",
    "gmm_args = (bins_input, np.array(moms_data), W_hat)\n",
    "\n",
    "results2 = opt.minimize(criterion2, params_init, args=(gmm_args),\n",
    "                       method='L-BFGS-B', bounds=((1e-10, None), (1e-10, None)))\n",
    "alpha_GMM2, beta_GMM2 = results2.x\n",
    "print('alpha_GMM2=', alpha_GMM2, ' beta_GMM2=', beta_GMM2)\n",
    "results2"
   ]
  },
  {
   "cell_type": "code",
   "execution_count": null,
   "metadata": {
    "collapsed": false,
    "scrolled": true
   },
   "outputs": [],
   "source": [
    "%matplotlib notebook \n",
    "# Plot Histogram\n",
    "plt.hist(datavals, bins=bins, weights=moms_data)\n",
    "\n",
    "# Plot the MLE estimated distribution\n",
    "for_plot2 = model_moments2(alpha_GMM2,beta_GMM2,bins)\n",
    "for_plot2[40] = for_plot2[40]/10\n",
    "for_plot2[41] = for_plot2[41]/20\n",
    "\n",
    "plt.plot(datavals, for_plot2, linewidth=2, color='r', label='GMM Fit - Gamma')\n",
    "\n",
    "plt.title('Distribution of Household Money Income by Income Class', fontsize=15)\n",
    "plt.xlabel('US Dollars (Thousands)')\n",
    "plt.ylabel('Percent of Households')\n",
    "plt.legend(loc='upper right')"
   ]
  },
  {
   "cell_type": "markdown",
   "metadata": {},
   "source": [
    "Plot the histogram from part (a), the line from part (b) and the line from part (c)"
   ]
  },
  {
   "cell_type": "code",
   "execution_count": null,
   "metadata": {
    "collapsed": false
   },
   "outputs": [],
   "source": [
    "%matplotlib notebook \n",
    "# Plot Histogram\n",
    "plt.hist(datavals, bins=bins, weights=moms_data)\n",
    "\n",
    "# Plot the MLE estimated distribution\n",
    "for_plot2 = model_moments2(alpha_GMM2,beta_GMM2,bins)\n",
    "for_plot2[40] = for_plot2[40]/10\n",
    "for_plot2[41] = for_plot2[41]/20\n",
    "\n",
    "plt.plot(datavals, for_plot2, linewidth=2, color='r', label='GMM Fit - Gamma')\n",
    "plt.plot(datavals, for_plot, linewidth=2, color='y', label='GMM Fit - Log Normal')\n",
    "\n",
    "plt.title('Distribution of Household Money Income by Income Class', fontsize=15)\n",
    "plt.xlabel('US Dollars (Thousands)')\n",
    "plt.ylabel('Percent of Households')\n",
    "plt.legend(loc='upper right')"
   ]
  },
  {
   "cell_type": "markdown",
   "metadata": {},
   "source": [
    "Based on the above plot, the Gamma distribution fits the data the best. I played around with it a bit, and even a Normal distribution does a reasonable job, which suggests that a truncated normal could be an excellent fit. "
   ]
  },
  {
   "cell_type": "markdown",
   "metadata": {},
   "source": [
    "(e) Repeat your estimation of the GA distribution from part (c) but use the two-step estimator for the optimal weighting matrix. Do your estimates for $\\alpha$ and $\\beta$ change much? How can your compare the goodness of fit of this estimated distribution versus the goodness of fit of the estimated distribution in part (c)?"
   ]
  },
  {
   "cell_type": "code",
   "execution_count": null,
   "metadata": {
    "collapsed": false
   },
   "outputs": [],
   "source": [
    "# Construct new weighting matrix:\n",
    "err_GMM2 =  err_vec2(alpha_GMM2, beta_GMM2, bins, moms_data)\n",
    "W_twostep = lin.pinv((1/(np.prod(bins.shape)-1))*np.outer(err_GMM2,err_GMM2))\n",
    "print(W_twostep)\n",
    "\n",
    "# Run GMM Estimation\n",
    "params_init = np.array([alpha_GMM2, beta_GMM2])\n",
    "\n",
    "gmm_args = (bins_input, np.array(moms_data), W_twostep)\n",
    "\n",
    "results3 = opt.minimize(criterion2, params_init, args=(gmm_args),\n",
    "                       method='L-BFGS-B', bounds=((1e-10, None), (1e-10, None)))\n",
    "alpha_GMM3, beta_GMM3 = results3.x\n",
    "print(results3)\n",
    "print('alpha_GMM2=', alpha_GMM2, ' beta_GMM2=', beta_GMM2)\n",
    "print('alpha_GMM3=', alpha_GMM3, ' beta_GMM3=', beta_GMM3)"
   ]
  },
  {
   "cell_type": "code",
   "execution_count": null,
   "metadata": {
    "collapsed": false,
    "scrolled": false
   },
   "outputs": [],
   "source": [
    "%matplotlib notebook \n",
    "# Plot Histogram\n",
    "plt.hist(datavals, bins=bins, weights=moms_data)\n",
    "\n",
    "# Plot the GMM estimated distribution\n",
    "for_plot2 = model_moments2(alpha_GMM2,beta_GMM2,bins)\n",
    "for_plot2[40] = for_plot2[40]/10\n",
    "for_plot2[41] = for_plot2[41]/20\n",
    "\n",
    "# Plot the GMM estimated distribution\n",
    "for_plot3 = model_moments2(alpha_GMM3,beta_GMM3,bins)\n",
    "for_plot3[40] = for_plot3[40]/10\n",
    "for_plot3[41] = for_plot3[41]/20\n",
    "\n",
    "plt.plot(datavals, for_plot3, linewidth=2, color='p', label='GMM - Gamma - Two Step')\n",
    "#plt.plot(datavals, for_plot2, linewidth=2, color='r', label='GMM - Gamma')\n",
    "#plt.plot(datavals, for_plot, linewidth=2, color='y', label='GMM - Log Normal')\n",
    "\n",
    "plt.title('Distribution of Household Money Income by Income Class', fontsize=15)\n",
    "plt.xlabel('US Dollars (Thousands)')\n",
    "plt.ylabel('Percent of Households')\n",
    "plt.legend(loc='upper right', fontsize=14)\n",
    "#plt.xlim([1e-8, 350])  # This gives the xmin and xmax to be plotted\"\n"
   ]
  }
 ],
 "metadata": {
  "anaconda-cloud": {},
  "kernelspec": {
   "display_name": "Python [default]",
   "language": "python",
   "name": "python3"
  },
  "language_info": {
   "codemirror_mode": {
    "name": "ipython",
    "version": 3
   },
   "file_extension": ".py",
   "mimetype": "text/x-python",
   "name": "python",
   "nbconvert_exporter": "python",
   "pygments_lexer": "ipython3",
   "version": "3.5.2"
  }
 },
 "nbformat": 4,
 "nbformat_minor": 1
}
