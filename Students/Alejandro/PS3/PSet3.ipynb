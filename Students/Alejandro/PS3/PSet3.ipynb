{
 "cells": [
  {
   "cell_type": "code",
   "execution_count": 2,
   "metadata": {
    "collapsed": true
   },
   "outputs": [],
   "source": [
    "import pandas as pd\n",
    "import numpy as np\n",
    "import scipy.stats as sts\n",
    "import scipy.optimize as opt"
   ]
  },
  {
   "cell_type": "code",
   "execution_count": 37,
   "metadata": {
    "collapsed": false
   },
   "outputs": [
    {
     "name": "stdout",
     "output_type": "stream",
     "text": [
      "Results for part (a)\n",
      "alpha_MLE= 0.462457221135 rho_MLE= 0.716920333864 mu_MLE= 9.45495906792 sigma_MLE= 0.0924543505343\n",
      "Results for part (b)\n",
      "alpha_MLE= 0.462484556245 rho_MLE= 0.716940234434 mu_MLE= 9.28215312492 sigma_MLE= 0.0924536678201\n"
     ]
    }
   ],
   "source": [
    "#dt = pd.read_table('MacroSeries.txt',sep=',',header=None,names=['c','k','w','r'])\n",
    "dt = np.loadtxt('MacroSeries.txt',delimiter=',')\n",
    "\n",
    "\n",
    "a_0 = 0.3 # Assume the capital share is 30%\n",
    "\n",
    "\n",
    "# Defining initial parameters for part (a)\n",
    "\n",
    "\n",
    "z_0_1 = np.log(dt[:,2].reshape((100,1))) - np.log(1-a_0) - a_0*np.log(dt[:,1].reshape((100,1)))\n",
    "\n",
    "\n",
    "# The initial guess for rho comes from \n",
    "# regressing z on its value in the previous period\n",
    "\n",
    "z_t_1 = z_0_1[1:100]\n",
    "z_t1_1 = z_0_1[0:99]\n",
    "rho_0_1 = sts.mstats.linregress(z_t1_1,z_t_1)[0] \n",
    "\n",
    "sig_0_1 = np.std(z_0_1)\n",
    "mu_0_1 = z_0_1[0]\n",
    "\n",
    "params_0_1 = [a_0,rho_0_1,mu_0_1,sig_0_1]\n",
    "\n",
    "\n",
    "# Defining initial parameters for part (b)\n",
    "\n",
    "z_0_2 = np.log(dt[:,3].reshape((100,1))) - (a_0-1)*np.log(dt[:,1].reshape((100,1))) - np.log(a_0) \n",
    "z_t_2 = z_0_2[1:100]\n",
    "z_t1_2 = z_0_2[0:99]\n",
    "\n",
    "rho_0_2 = sts.mstats.linregress(z_t1_2,z_t_2)[0]\n",
    "\n",
    "sig_0_2 = np.std(z_0_2)\n",
    "mu_0_2 = z_0_2[0]\n",
    "\n",
    "params_0_2 = [a_0,rho_0_2,mu_0_2,sig_0_2]\n",
    "\n",
    "# Optimization\n",
    "\n",
    "def TFPnormpdf(wge,rnt,cpt,alpha,rho,mu,sigma,method):\n",
    "    '''\n",
    "    The Following function calculates the Normal pdf\n",
    "    of tfp for a given set of parameters. It starts by\n",
    "    calculating tfp z from wages (wge), capital (cpt) and\n",
    "    alpha. It then calculates the normal pdf where the loc\n",
    "    parameter is a function of the z, rho and mu. The scale \n",
    "    is sigma. The method input determines if we calculate \n",
    "    TFP using w and k or r and k.\n",
    "    '''\n",
    "    if method == 1:\n",
    "        z = np.log(wge) - np.log(1-alpha) - alpha*np.log(cpt)\n",
    "    else:\n",
    "        z = np.log(rnt) - (alpha-1)*np.log(cpt) - np.log(alpha) \n",
    "    z_vect = z[1:100]\n",
    "    mu_n_vect = rho*z[0:99] + (1-rho)*mu\n",
    "    pdf_vect = sts.norm.pdf(z_vect,loc = mu_n_vect,scale = sigma)\n",
    "    return pdf_vect\n",
    "\n",
    "def logliknorm(wge,rnt,cpt,alpha,rho,mu,sigma,method):\n",
    "    pdf_vect = TFPnormpdf(wge,rnt,cpt,alpha,rho,mu,sigma,method)\n",
    "    ln_pdf_vect = np.log(pdf_vect)\n",
    "    likelihood = ln_pdf_vect.sum()\n",
    "    return likelihood\n",
    "\n",
    "def crit(parameters,arguments):\n",
    "    alpha,rho,mu,sigma = parameters\n",
    "    wge,rnt,cpt,method = arguments\n",
    "    lklh = logliknorm(wge,rnt,cpt,alpha,rho,mu,sigma,method)\n",
    "    return -lklh\n",
    "\n",
    "wgerntcap_1 = [dt[:,2].reshape((100,1)),dt[:,3].reshape((100,1)),dt[:,1].reshape((100,1)),1]\n",
    "wgerntcap_2 = [dt[:,2].reshape((100,1)),dt[:,3].reshape((100,1)),dt[:,1].reshape((100,1)),2]\n",
    "\n",
    "bnds = ((0,0.9999),(-1,1),(0, None),(0.01, None))\n",
    "results_1 = opt.minimize(crit,params_0_1,args= wgerntcap_1,\n",
    "                       method='SLSQP',bounds=bnds)\n",
    "results_2 = opt.minimize(crit,params_0_2,args= wgerntcap_2,\n",
    "                       method='SLSQP',bounds=bnds)\n",
    "\n",
    "alpha_1 , rho_1, mu_1, sigma_1 = results_1.x\n",
    "alpha_2 , rho_2, mu_2, sigma_2 = results_2.x\n",
    "\n",
    "print('Results for part (a)')\n",
    "print('alpha_MLE=',alpha_1,'rho_MLE=', rho_1,'mu_MLE=',mu_1,'sigma_MLE=', sigma_1)\n",
    "\n",
    "print('Results for part (b)')\n",
    "print('alpha_MLE=',alpha_2,'rho_MLE=', rho_2,'mu_MLE=',mu_2,'sigma_MLE=', sigma_2)\n"
   ]
  },
  {
   "cell_type": "code",
   "execution_count": 22,
   "metadata": {
    "collapsed": false
   },
   "outputs": [
    {
     "ename": "AttributeError",
     "evalue": "hess_inv",
     "output_type": "error",
     "traceback": [
      "\u001b[0;31m---------------------------------------------------------------------------\u001b[0m",
      "\u001b[0;31mKeyError\u001b[0m                                  Traceback (most recent call last)",
      "\u001b[0;32m//anaconda/lib/python3.5/site-packages/scipy/optimize/optimize.py\u001b[0m in \u001b[0;36m__getattr__\u001b[0;34m(self, name)\u001b[0m\n\u001b[1;32m    113\u001b[0m         \u001b[0;32mtry\u001b[0m\u001b[0;34m:\u001b[0m\u001b[0;34m\u001b[0m\u001b[0m\n\u001b[0;32m--> 114\u001b[0;31m             \u001b[0;32mreturn\u001b[0m \u001b[0mself\u001b[0m\u001b[0;34m[\u001b[0m\u001b[0mname\u001b[0m\u001b[0;34m]\u001b[0m\u001b[0;34m\u001b[0m\u001b[0m\n\u001b[0m\u001b[1;32m    115\u001b[0m         \u001b[0;32mexcept\u001b[0m \u001b[0mKeyError\u001b[0m\u001b[0;34m:\u001b[0m\u001b[0;34m\u001b[0m\u001b[0m\n",
      "\u001b[0;31mKeyError\u001b[0m: 'hess_inv'",
      "\nDuring handling of the above exception, another exception occurred:\n",
      "\u001b[0;31mAttributeError\u001b[0m                            Traceback (most recent call last)",
      "\u001b[0;32m<ipython-input-22-9be24730c448>\u001b[0m in \u001b[0;36m<module>\u001b[0;34m()\u001b[0m\n\u001b[1;32m      1\u001b[0m \u001b[0mresults_1\u001b[0m\u001b[0;34m\u001b[0m\u001b[0m\n\u001b[0;32m----> 2\u001b[0;31m \u001b[0mvcv_mle_1\u001b[0m \u001b[0;34m=\u001b[0m \u001b[0mresults_1\u001b[0m\u001b[0;34m.\u001b[0m\u001b[0mhess_inv\u001b[0m\u001b[0;34m\u001b[0m\u001b[0m\n\u001b[0m\u001b[1;32m      3\u001b[0m '''\n\u001b[1;32m      4\u001b[0m \u001b[0mstderr_mu_mle_1\u001b[0m \u001b[0;34m=\u001b[0m \u001b[0mnp\u001b[0m\u001b[0;34m.\u001b[0m\u001b[0msqrt\u001b[0m\u001b[0;34m(\u001b[0m\u001b[0mvcv_mle_1\u001b[0m\u001b[0;34m[\u001b[0m\u001b[0;36m0\u001b[0m\u001b[0;34m,\u001b[0m\u001b[0;36m0\u001b[0m\u001b[0;34m]\u001b[0m\u001b[0;34m)\u001b[0m\u001b[0;34m\u001b[0m\u001b[0m\n\u001b[1;32m      5\u001b[0m \u001b[0mstderr_sig_mle_1\u001b[0m \u001b[0;34m=\u001b[0m \u001b[0mnp\u001b[0m\u001b[0;34m.\u001b[0m\u001b[0msqrt\u001b[0m\u001b[0;34m(\u001b[0m\u001b[0mvcv_mle_1\u001b[0m\u001b[0;34m[\u001b[0m\u001b[0;36m1\u001b[0m\u001b[0;34m,\u001b[0m\u001b[0;36m1\u001b[0m\u001b[0;34m]\u001b[0m\u001b[0;34m)\u001b[0m\u001b[0;34m\u001b[0m\u001b[0m\n",
      "\u001b[0;32m//anaconda/lib/python3.5/site-packages/scipy/optimize/optimize.py\u001b[0m in \u001b[0;36m__getattr__\u001b[0;34m(self, name)\u001b[0m\n\u001b[1;32m    114\u001b[0m             \u001b[0;32mreturn\u001b[0m \u001b[0mself\u001b[0m\u001b[0;34m[\u001b[0m\u001b[0mname\u001b[0m\u001b[0;34m]\u001b[0m\u001b[0;34m\u001b[0m\u001b[0m\n\u001b[1;32m    115\u001b[0m         \u001b[0;32mexcept\u001b[0m \u001b[0mKeyError\u001b[0m\u001b[0;34m:\u001b[0m\u001b[0;34m\u001b[0m\u001b[0m\n\u001b[0;32m--> 116\u001b[0;31m             \u001b[0;32mraise\u001b[0m \u001b[0mAttributeError\u001b[0m\u001b[0;34m(\u001b[0m\u001b[0mname\u001b[0m\u001b[0;34m)\u001b[0m\u001b[0;34m\u001b[0m\u001b[0m\n\u001b[0m\u001b[1;32m    117\u001b[0m \u001b[0;34m\u001b[0m\u001b[0m\n\u001b[1;32m    118\u001b[0m     \u001b[0m__setattr__\u001b[0m \u001b[0;34m=\u001b[0m \u001b[0mdict\u001b[0m\u001b[0;34m.\u001b[0m\u001b[0m__setitem__\u001b[0m\u001b[0;34m\u001b[0m\u001b[0m\n",
      "\u001b[0;31mAttributeError\u001b[0m: hess_inv"
     ]
    }
   ],
   "source": [
    "results_1.hess_inv\n",
    "results_1.hess_inv\n"
   ]
  },
  {
   "cell_type": "code",
   "execution_count": 38,
   "metadata": {
    "collapsed": false
   },
   "outputs": [
    {
     "data": {
      "text/plain": [
       "0.0"
      ]
     },
     "execution_count": 38,
     "metadata": {},
     "output_type": "execute_result"
    }
   ],
   "source": [
    "# Calculate P(r_t>1)\n",
    "\n",
    "sts.norm.cdf(9.3,loc=9.846,scale=0.0081)"
   ]
  },
  {
   "cell_type": "code",
   "execution_count": null,
   "metadata": {
    "collapsed": true
   },
   "outputs": [],
   "source": []
  }
 ],
 "metadata": {
  "anaconda-cloud": {},
  "kernelspec": {
   "display_name": "Python [default]",
   "language": "python",
   "name": "python3"
  }
 },
 "nbformat": 4,
 "nbformat_minor": 1
}
