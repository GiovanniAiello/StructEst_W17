{
 "cells": [
  {
   "cell_type": "markdown",
   "metadata": {},
   "source": [
    "## Problem Set 5\n",
    "\n",
    "Yewon Kim "
   ]
  },
  {
   "cell_type": "markdown",
   "metadata": {},
   "source": [
    "## 1. Estimating the Brock and Mirman (1972) model by GMM \n",
    "\n",
    "Data on ($c_t, k_t, w_t, r_t$) is given. We will use the following set of equations for estimation: \n",
    "\n",
    "$$(c_t)^{-1} -\\beta E[r_{t+1}(c_{t+1})^{-1}] = 0$$\n",
    "\n",
    "$$ c_t+ k_{t+1} - w_t - r_tk_t = 0 $$\n",
    "\n",
    "$$ w_t-(1-\\alpha)\\exp(z_t)(k_t)^\\alpha = 0 $$\n",
    "\n",
    "$$ r_t - \\alpha \\exp(z_t)(k_t)^{\\alpha-1} =0 $$\n",
    "\n",
    "$$z_t = \\rho z_{t-1} + (1-\\rho)\\mu + \\epsilon_t $$ \n",
    "$$\\mbox{where } E[\\epsilon_t]=0$$"
   ]
  },
  {
   "cell_type": "markdown",
   "metadata": {},
   "source": [
    "We have 4 parameters in total $(\\alpha, \\beta, \\rho, \\mu)$ to be estimated. \n",
    "$$\\alpha, \\beta \\in (0,1),~~~ \\mu >0, ~~~ \\rho \\in (-1,1)$$ "
   ]
  },
  {
   "cell_type": "code",
   "execution_count": 1,
   "metadata": {
    "collapsed": false
   },
   "outputs": [],
   "source": [
    "# Import packages and load the data\n",
    "import numpy as np\n",
    "import numpy.random as rnd\n",
    "import numpy.linalg as lin\n",
    "import scipy.stats as sts\n",
    "import scipy.integrate as intgr\n",
    "import scipy.optimize as opt\n",
    "import matplotlib\n",
    "import matplotlib.pyplot as plt\n",
    "from mpl_toolkits.mplot3d import Axes3D\n",
    "from matplotlib import cm\n",
    "cmap1 = matplotlib.cm.get_cmap('summer')\n",
    "import pandas\n",
    "# This next command is specifically for Jupyter Notebook\n",
    "%matplotlib notebook\n",
    "\n",
    "data = np.loadtxt(\"MacroSeries.txt\", delimiter=\",\")"
   ]
  },
  {
   "cell_type": "code",
   "execution_count": 2,
   "metadata": {
    "collapsed": false
   },
   "outputs": [
    {
     "data": {
      "text/html": [
       "<div>\n",
       "<table border=\"1\" class=\"dataframe\">\n",
       "  <thead>\n",
       "    <tr style=\"text-align: right;\">\n",
       "      <th></th>\n",
       "      <th>c</th>\n",
       "      <th>k</th>\n",
       "      <th>w</th>\n",
       "      <th>r</th>\n",
       "    </tr>\n",
       "  </thead>\n",
       "  <tbody>\n",
       "    <tr>\n",
       "      <th>0</th>\n",
       "      <td>1.067109e+07</td>\n",
       "      <td>8.040697e+06</td>\n",
       "      <td>1.059438e+07</td>\n",
       "      <td>0.954120</td>\n",
       "    </tr>\n",
       "    <tr>\n",
       "      <th>1</th>\n",
       "      <td>1.169487e+07</td>\n",
       "      <td>7.595072e+06</td>\n",
       "      <td>1.161079e+07</td>\n",
       "      <td>1.107009</td>\n",
       "    </tr>\n",
       "    <tr>\n",
       "      <th>2</th>\n",
       "      <td>9.292394e+06</td>\n",
       "      <td>8.323735e+06</td>\n",
       "      <td>9.225588e+06</td>\n",
       "      <td>0.802596</td>\n",
       "    </tr>\n",
       "    <tr>\n",
       "      <th>3</th>\n",
       "      <td>7.913165e+06</td>\n",
       "      <td>6.613792e+06</td>\n",
       "      <td>7.856274e+06</td>\n",
       "      <td>0.860176</td>\n",
       "    </tr>\n",
       "    <tr>\n",
       "      <th>4</th>\n",
       "      <td>8.140994e+06</td>\n",
       "      <td>5.632136e+06</td>\n",
       "      <td>8.082466e+06</td>\n",
       "      <td>1.039183</td>\n",
       "    </tr>\n",
       "  </tbody>\n",
       "</table>\n",
       "</div>"
      ],
      "text/plain": [
       "              c             k             w         r\n",
       "0  1.067109e+07  8.040697e+06  1.059438e+07  0.954120\n",
       "1  1.169487e+07  7.595072e+06  1.161079e+07  1.107009\n",
       "2  9.292394e+06  8.323735e+06  9.225588e+06  0.802596\n",
       "3  7.913165e+06  6.613792e+06  7.856274e+06  0.860176\n",
       "4  8.140994e+06  5.632136e+06  8.082466e+06  1.039183"
      ]
     },
     "execution_count": 2,
     "metadata": {},
     "output_type": "execute_result"
    }
   ],
   "source": [
    "df = pandas.DataFrame(data)\n",
    "## Renaming columns\n",
    "df.columns = ['c', 'k', 'w', 'r']\n",
    "df.head()"
   ]
  },
  {
   "cell_type": "code",
   "execution_count": 3,
   "metadata": {
    "collapsed": true
   },
   "outputs": [],
   "source": [
    "def current(x):\n",
    "    if len(np.array(x).shape)== 1:\n",
    "        return np.array(x[:-1])\n",
    "    if len(np.array(x).shape) > 1:\n",
    "        return np.array(x[:-1,:])\n",
    "def future(x):\n",
    "    if len(np.array(x).shape)== 1:\n",
    "        return np.array(x[1:])\n",
    "    if len(np.array(x).shape)> 1:\n",
    "        return np.array(x[1:,:])\n"
   ]
  },
  {
   "cell_type": "markdown",
   "metadata": {},
   "source": [
    "Within the GMMcrit function, I use the following property driven from equation (4):\n",
    "$$\\ z_t = \\log(r_t) - \\log(\\alpha(k_t)^{\\alpha-1}) = \\log(r_t) - \\log(\\alpha)-(\\alpha-1)\\log(k_t)$$"
   ]
  },
  {
   "cell_type": "code",
   "execution_count": 39,
   "metadata": {
    "collapsed": true
   },
   "outputs": [],
   "source": [
    "def GMMcrit(params, *args):\n",
    "    aa,bb,rr,mm = params\n",
    "    W, data= args\n",
    "    c, k,w,r = data\n",
    "    \n",
    "    z = np.log(r)-np.log(aa)-(aa-1)*np.log(k)\n",
    "    \n",
    "    m1 = np.mean(future(z) - rr*current(z) - (1-rr)*mm)\n",
    "    m2 = np.mean((future(z)/(rr*current(z)+(1-rr)*mm)-1))\n",
    "    m3 = np.mean((future(z)/(rr*current(z)+(1-rr)*mm)-1)*current(z))\n",
    "    #m4 = np.mean(bb*future(r)*current(c)/future(c)-1)\n",
    "    m4 = np.mean((bb*aa*np.exp(future(z))*(future(k)**(aa-1))*current(c)/future(c)-1))\n",
    "    m5 = np.mean((bb*aa*np.exp(future(z))*(future(k)**(aa-1))*current(c)/future(c)-1)*current(w))\n",
    "    \n",
    "    mm = [m1,m2,m3,m4, m5]\n",
    "    return np.dot(np.dot(mm, W), mm)"
   ]
  },
  {
   "cell_type": "markdown",
   "metadata": {},
   "source": [
    "Check if the function works: "
   ]
  },
  {
   "cell_type": "code",
   "execution_count": 40,
   "metadata": {
    "collapsed": false
   },
   "outputs": [
    {
     "data": {
      "text/plain": [
       "87673094447636.688"
      ]
     },
     "execution_count": 40,
     "metadata": {},
     "output_type": "execute_result"
    }
   ],
   "source": [
    "p0 = np.array([0.1,0.1,0.1,2])\n",
    "GMMcrit(p0, np.eye(5),(df.c, df.k, df.w, df.r))"
   ]
  },
  {
   "cell_type": "code",
   "execution_count": 41,
   "metadata": {
    "collapsed": false
   },
   "outputs": [
    {
     "data": {
      "text/plain": [
       "                        fun: 1.8440214027919621e-05\n",
       " lowest_optimization_result:       fun: 1.8440214027919621e-05\n",
       " hess_inv: <4x4 LbfgsInvHessProduct with dtype=float64>\n",
       "      jac: array([  5.42306066e-04,   1.02656389e+06,  -4.16748802e-02,\n",
       "        -1.35525272e-12])\n",
       "  message: b'CONVERGENCE: REL_REDUCTION_OF_F_<=_FACTR*EPSMCH'\n",
       "     nfev: 240\n",
       "      nit: 22\n",
       "   status: 0\n",
       "  success: True\n",
       "        x: array([ 0.56512374,  0.99      ,  1.        ,  0.00321486])\n",
       "                    message: ['requested number of basinhopping iterations completed successfully']\n",
       "      minimization_failures: 10\n",
       "                       nfev: 14220\n",
       "                        nit: 100\n",
       "                          x: array([ 0.56512374,  0.99      ,  1.        ,  0.00321486])"
      ]
     },
     "execution_count": 41,
     "metadata": {},
     "output_type": "execute_result"
    }
   ],
   "source": [
    "a_init = 0.3\n",
    "b_init = 0.9\n",
    "r_init = 0.4\n",
    "m_init = 0.7\n",
    "params_init = np.array([a_init, b_init, r_init, m_init])\n",
    "W = np.eye(5)\n",
    "gmm_args = (W, (df.c, df.k, df.w, df.r))\n",
    "\n",
    "minimizer_kwargs = dict(method=\"L-BFGS-B\", bounds=((1e-10, 1-1e-10), (1e-10, 1-1e-10), (-1+1e-10,1-1e-10),(1e-10,None)),args = (gmm_args))\n",
    "results_a = opt.basinhopping(GMMcrit, params_init, minimizer_kwargs = minimizer_kwargs)\n",
    "results_a"
   ]
  },
  {
   "cell_type": "code",
   "execution_count": 42,
   "metadata": {
    "collapsed": true
   },
   "outputs": [],
   "source": [
    "alpha_GMM, beta_GMM, rho_GMM, mu_GMM = results_a.x"
   ]
  },
  {
   "cell_type": "markdown",
   "metadata": {},
   "source": [
    "Let's see what the calculated moments look like:"
   ]
  },
  {
   "cell_type": "code",
   "execution_count": 45,
   "metadata": {
    "collapsed": true
   },
   "outputs": [],
   "source": [
    "def GMM_moments(params, *args):\n",
    "    aa,bb,rr,mm = params\n",
    "    W, data= args\n",
    "    c, k,w,r = data\n",
    "    \n",
    "    z = np.log(r)-np.log(aa)-(aa-1)*np.log(k)\n",
    "    \n",
    "    m1 = np.mean(future(z) - rr*current(z) - (1-rr)*mm)\n",
    "    m2 = np.mean((future(z)/(rr*current(z)+(1-rr)*mm)-1))\n",
    "    m3 = np.mean((future(z)/(rr*current(z)+(1-rr)*mm)-1)*current(z))\n",
    "    #m4 = np.mean(bb*future(r)*current(c)/future(c)-1)\n",
    "    m4 = np.mean((bb*aa*np.exp(future(z))*(future(k)**(aa-1))*current(c)/future(c)-1))\n",
    "    m5 = np.mean((bb*aa*np.exp(future(z))*(future(k)**(aa-1))*current(c)/future(c)-1)*current(w))\n",
    "    \n",
    "    mm = [m1,m2,m3,m4,m5]\n",
    "    return mm"
   ]
  },
  {
   "cell_type": "code",
   "execution_count": 46,
   "metadata": {
    "collapsed": false
   },
   "outputs": [
    {
     "data": {
      "text/plain": [
       "[0.0013795811249966736,\n",
       " 0.00027730553787768276,\n",
       " 0.0013795811251345459,\n",
       " -3.6631525422420151e-10,\n",
       " -0.0038153410732603274]"
      ]
     },
     "execution_count": 46,
     "metadata": {},
     "output_type": "execute_result"
    }
   ],
   "source": [
    "GMM_moments(results_a.x, W, (df.c, df.k, df.w, df.r))"
   ]
  },
  {
   "cell_type": "markdown",
   "metadata": {},
   "source": [
    "## 2. Estimating the Brock and Mirman (1972) model by SMM"
   ]
  },
  {
   "cell_type": "markdown",
   "metadata": {},
   "source": [
    "Steps for SMM are the following:\n",
    "\n",
    "0) Draw T = 100 uniform draws outside the computation. \n",
    "\n",
    "1) Assume $z_1 = \\mu$ and $k_1 = mean(k_t)$ from the data.\n",
    "\n",
    "2) Convert 100 uniform draws to $\\epsilon_t \\sim N(0, \\sigma)$ given $\\sigma$, and simulate the full series of $z_t$ using equation (5)\n",
    "\n",
    "3) Use the policy function for savings (10) recursively to solve for the entire $k_t$ series.\n",
    " \n",
    "4) Using the simulated $k_t$ and $z_t$, use (3) to solve for the $w_t$ series and (4) to solve for the $r_t$ series.\n",
    "\n",
    "5) Use the budge constraint (2) to solve for the $c_t$ series. "
   ]
  },
  {
   "cell_type": "code",
   "execution_count": 5,
   "metadata": {
    "collapsed": true
   },
   "outputs": [],
   "source": [
    "## Step 0\n",
    "T = 100\n",
    "S = 1000\n",
    "U = sts.norm.rvs(size=(T, S))"
   ]
  },
  {
   "cell_type": "code",
   "execution_count": 6,
   "metadata": {
    "collapsed": false
   },
   "outputs": [],
   "source": [
    "def SMMcrit(params, *args):\n",
    "    aa,bb,rr,mm,ss = params\n",
    "    #print(params)\n",
    "    W, data = args\n",
    "    c, k,w,r = data\n",
    "    \n",
    "    ## Step 1)\n",
    "    \n",
    "    z0 = mm\n",
    "    k0 = np.mean(k)\n",
    "    \n",
    "    ## Step 2) & 3)\n",
    "    eps = U*ss\n",
    "    z_sim = np.array([rr*z0 + (1-rr)*mm + eps[0,:]])\n",
    "    k_sim = np.array([[aa*bb*np.exp(z0)*((k0)**aa)]*S])\n",
    "    \n",
    "    for t in range(1,T):\n",
    "        z_sim = np.vstack([z_sim, rr*z_sim[t-1,:]+(1-rr)*mm+eps[t,:]])\n",
    "        k_sim = np.vstack([k_sim, aa*bb*np.exp(z_sim[t-1,:])*((k_sim[t-1,:])**aa)])\n",
    "\n",
    "    \n",
    "    #print(k_sim.shape)\n",
    "        \n",
    "    ## Step 4)\n",
    "    w_sim = (1-aa)*np.exp(z_sim)*(k_sim**aa)\n",
    "    r_sim = aa*np.exp(z_sim)*(k_sim**(aa-1))\n",
    "    \n",
    "    ## Step 5)\n",
    "    c_sim = rr*current(k_sim) + current(w_sim) - future(k_sim)\n",
    "    c_sim = np.vstack([c_sim,rr*k_sim[T-1,:]+w_sim[T-1,:]]) ### Assuming the last period's saving to be 0 \n",
    "    #print(c_sim.shape)\n",
    "    \n",
    "    ## Creating model moments\n",
    "    m1 = np.mean(c_sim)\n",
    "    m2 = np.mean(k_sim)\n",
    "    m3 = np.mean(np.var(c_sim,axis=0))\n",
    "    m4 = np.mean(np.var(k_sim,axis=0))\n",
    "    m5 = np.mean(sts.spearmanr(c_sim, k_sim, axis=0)[0])\n",
    "    m6 = np.mean(sts.spearmanr(current(k_sim), future(k_sim), axis=0)[0])\n",
    "    \n",
    "    ## Creating data moments\n",
    "    dd = np.array([np.mean(c), np.mean(k), np.var(c), np.var(k), sts.spearmanr(c,k)[0], sts.spearmanr(current(k), future(k))[0]])\n",
    "    mm = np.array([m1, m2, m3, m4, m5, m6])\n",
    "    \n",
    "    err = (mm-dd)/dd\n",
    "    #print(err)\n",
    "    return np.dot(np.dot(err, W), err)\n",
    "    "
   ]
  },
  {
   "cell_type": "code",
   "execution_count": 7,
   "metadata": {
    "collapsed": false
   },
   "outputs": [
    {
     "data": {
      "text/plain": [
       "5.6879960318010543"
      ]
     },
     "execution_count": 7,
     "metadata": {},
     "output_type": "execute_result"
    }
   ],
   "source": [
    "p0 = np.array([0.56512374,  0.99,  1.  ,  0.00321486 ,0.2])\n",
    "SMMcrit(p0, np.eye(6),(df.c, df.k, df.w, df.r))"
   ]
  },
  {
   "cell_type": "code",
   "execution_count": 8,
   "metadata": {
    "collapsed": false
   },
   "outputs": [
    {
     "data": {
      "text/plain": [
       "      fun: 3.091362256879671\n",
       " hess_inv: <5x5 LbfgsInvHessProduct with dtype=float64>\n",
       "      jac: array([ -5.09344032e+00,   1.67941216e-04,  -3.37587736e-05,\n",
       "         6.77320422e-05,   8.87359874e-03])\n",
       "  message: b'CONVERGENCE: REL_REDUCTION_OF_F_<=_FACTR*EPSMCH'\n",
       "     nfev: 222\n",
       "      nit: 21\n",
       "   status: 0\n",
       "  success: True\n",
       "        x: array([ 0.99      ,  0.81397987, -0.43934325,  0.30985945,  0.001     ])"
      ]
     },
     "execution_count": 8,
     "metadata": {},
     "output_type": "execute_result"
    }
   ],
   "source": [
    "params_init = np.array([0.56512374,  0.98,  0.98  ,  0.1, 0.01])\n",
    "W = np.eye(6)\n",
    "smm_args = (W, (df.c, df.k, df.w, df.r))\n",
    "\n",
    "#minimizer_kwargs = dict(method=\"L-BFGS-B\", bounds=((0.01, 0.99), (0.01, 0.99), (-0.99,0.99), (-0.5,1), (0.001,1)),args = (smm_args), options = {'eps':0.01})\n",
    "#results_b = opt.basinhopping(SMMcrit, params_init, minimizer_kwargs = minimizer_kwargs)\n",
    "results_b = opt.minimize(SMMcrit, params_init,method=\"L-BFGS-B\", bounds=((0.01, 0.99), (0.01, 0.99), (-0.99,0.99), (-0.5,1), (0.001,1)),options = {'eps':1e-06},args = (smm_args))\n",
    "results_b"
   ]
  },
  {
   "cell_type": "code",
   "execution_count": 9,
   "metadata": {
    "collapsed": true
   },
   "outputs": [],
   "source": [
    "def SMM_moments(params, *args):\n",
    "    aa,bb,rr,mm,ss = params\n",
    "    W, data = args\n",
    "    c, k,w,r = data\n",
    "    \n",
    "    ## Step 1)\n",
    "    \n",
    "    z0 = mm\n",
    "    k0 = np.mean(k)\n",
    "    \n",
    "    ## Step 2) & 3)\n",
    "    eps = sts.norm.ppf(U, scale = ss)\n",
    "    z_sim = np.array([rr*z0 + (1-rr)*mm + eps[0,:]])\n",
    "    k_sim = np.array([[aa*bb*np.exp(z0)*((k0)**aa)]*S])\n",
    "    \n",
    "    for t in range(1,T):\n",
    "        z_sim = np.vstack([z_sim, rr*z_sim[t-1,:]+(1-rr)*mm+eps[t,:]])\n",
    "        k_sim = np.vstack([k_sim, aa*bb*np.exp(z_sim[t-1,:])*((k_sim[t-1,:])**aa)])\n",
    "\n",
    "    \n",
    "    #print(k_sim.shape)\n",
    "        \n",
    "    ## Step 4)\n",
    "    w_sim = (1-aa)*np.exp(z_sim)*(k_sim**aa)\n",
    "    r_sim = aa*np.exp(z_sim)*(k_sim**(aa-1))\n",
    "    \n",
    "    ## Step 5)\n",
    "    c_sim = rr*current(k_sim) + current(w_sim) - future(k_sim)\n",
    "    c_sim = np.vstack([c_sim,rr*k_sim[T-1,:]+w_sim[T-1,:]]) ### Assuming the last period's saving to be 0 \n",
    "    #print(c_sim.shape)\n",
    "    \n",
    "    ## Creating model moments\n",
    "    m1 = np.mean(c_sim)\n",
    "    m2 = np.mean(k_sim)\n",
    "    m3 = np.mean(np.var(c_sim,axis=0))\n",
    "    m4 = np.mean(np.var(k_sim,axis=0))\n",
    "    m5 = np.mean(sts.spearmanr(c_sim, k_sim, axis=0)[0])\n",
    "    m6 = np.mean(sts.spearmanr(current(k_sim), future(k_sim))[0])\n",
    "    \n",
    "    ## Creating data moments\n",
    "    dd = np.array([np.mean(c), np.mean(k), np.var(c), np.var(k), sts.spearmanr(c,k)[0], sts.spearmanr(current(k), future(k))[0]])\n",
    "    mm = np.array([m1, m2, m3, m4, m5, m6])\n",
    "    \n",
    "    err = (mm-dd)/dd\n",
    "    print('Data moments:', dd)\n",
    "    print('Model moments:', mm)\n",
    "    return err\n",
    "    "
   ]
  },
  {
   "cell_type": "code",
   "execution_count": 11,
   "metadata": {
    "collapsed": false,
    "scrolled": true
   },
   "outputs": [
    {
     "name": "stdout",
     "output_type": "stream",
     "text": [
      "Data moments: [  1.05208478e+07   7.47254456e+06   5.64243398e+12   2.81655086e+12\n",
      "   8.75727573e-01   8.72962276e-01]\n",
      "Model moments: [        nan         nan         nan         nan  0.97209356  0.96564849]\n"
     ]
    },
    {
     "data": {
      "text/plain": [
       "array([        nan,         nan,         nan,         nan,  0.11004105,\n",
       "        0.10617437])"
      ]
     },
     "execution_count": 11,
     "metadata": {},
     "output_type": "execute_result"
    }
   ],
   "source": [
    "SMM_moments(results_b.x, W, (df.c, df.k, df.w, df.r))"
   ]
  },
  {
   "cell_type": "code",
   "execution_count": null,
   "metadata": {
    "collapsed": true
   },
   "outputs": [],
   "source": []
  }
 ],
 "metadata": {
  "anaconda-cloud": {},
  "kernelspec": {
   "display_name": "Python [conda root]",
   "language": "python",
   "name": "conda-root-py"
  },
  "language_info": {
   "codemirror_mode": {
    "name": "ipython",
    "version": 3
   },
   "file_extension": ".py",
   "mimetype": "text/x-python",
   "name": "python",
   "nbconvert_exporter": "python",
   "pygments_lexer": "ipython3",
   "version": "3.5.2"
  }
 },
 "nbformat": 4,
 "nbformat_minor": 1
}
